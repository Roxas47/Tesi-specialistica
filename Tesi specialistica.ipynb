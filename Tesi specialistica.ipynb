{
 "cells": [
  {
   "cell_type": "markdown",
   "metadata": {},
   "source": [
    "# IMPORTAZIONE DEI DATI E PROCESSAMENTO"
   ]
  },
  {
   "cell_type": "code",
   "execution_count": 1,
   "metadata": {},
   "outputs": [],
   "source": [
    "# Setup\n",
    "# Visualizziamo l'output completo in Jupyter, non solo l'ultimo risultato\n",
    "from IPython.core.interactiveshell import InteractiveShell\n",
    "InteractiveShell.ast_node_interactivity = \"all\"\n",
    "from warnings import simplefilter\n",
    "\n",
    "# Ignoriamo tutti gli avvisi futuri\n",
    "simplefilter(action=\"ignore\", category=FutureWarning)"
   ]
  },
  {
   "cell_type": "code",
   "execution_count": 2,
   "metadata": {},
   "outputs": [],
   "source": [
    "import pandas as pd \n",
    "import numpy as np \n",
    "film=pd.read_csv(\"movies_metadata.csv\",low_memory=False)"
   ]
  },
  {
   "cell_type": "code",
   "execution_count": 3,
   "metadata": {
    "scrolled": false
   },
   "outputs": [
    {
     "data": {
      "text/html": [
       "<div>\n",
       "<style scoped>\n",
       "    .dataframe tbody tr th:only-of-type {\n",
       "        vertical-align: middle;\n",
       "    }\n",
       "\n",
       "    .dataframe tbody tr th {\n",
       "        vertical-align: top;\n",
       "    }\n",
       "\n",
       "    .dataframe thead th {\n",
       "        text-align: right;\n",
       "    }\n",
       "</style>\n",
       "<table border=\"1\" class=\"dataframe\">\n",
       "  <thead>\n",
       "    <tr style=\"text-align: right;\">\n",
       "      <th></th>\n",
       "      <th>adult</th>\n",
       "      <th>belongs_to_collection</th>\n",
       "      <th>budget</th>\n",
       "      <th>genres</th>\n",
       "      <th>homepage</th>\n",
       "      <th>id</th>\n",
       "      <th>imdb_id</th>\n",
       "      <th>original_language</th>\n",
       "      <th>original_title</th>\n",
       "      <th>overview</th>\n",
       "      <th>...</th>\n",
       "      <th>release_date</th>\n",
       "      <th>revenue</th>\n",
       "      <th>runtime</th>\n",
       "      <th>spoken_languages</th>\n",
       "      <th>status</th>\n",
       "      <th>tagline</th>\n",
       "      <th>title</th>\n",
       "      <th>video</th>\n",
       "      <th>vote_average</th>\n",
       "      <th>vote_count</th>\n",
       "    </tr>\n",
       "  </thead>\n",
       "  <tbody>\n",
       "    <tr>\n",
       "      <th>0</th>\n",
       "      <td>False</td>\n",
       "      <td>{'id': 10194, 'name': 'Toy Story Collection', ...</td>\n",
       "      <td>30000000</td>\n",
       "      <td>[{'id': 16, 'name': 'Animation'}, {'id': 35, '...</td>\n",
       "      <td>http://toystory.disney.com/toy-story</td>\n",
       "      <td>862</td>\n",
       "      <td>tt0114709</td>\n",
       "      <td>en</td>\n",
       "      <td>Toy Story</td>\n",
       "      <td>Led by Woody, Andy's toys live happily in his ...</td>\n",
       "      <td>...</td>\n",
       "      <td>1995-10-30</td>\n",
       "      <td>373554033.0</td>\n",
       "      <td>81.0</td>\n",
       "      <td>[{'iso_639_1': 'en', 'name': 'English'}]</td>\n",
       "      <td>Released</td>\n",
       "      <td>NaN</td>\n",
       "      <td>Toy Story</td>\n",
       "      <td>False</td>\n",
       "      <td>7.7</td>\n",
       "      <td>5415.0</td>\n",
       "    </tr>\n",
       "    <tr>\n",
       "      <th>1</th>\n",
       "      <td>False</td>\n",
       "      <td>NaN</td>\n",
       "      <td>65000000</td>\n",
       "      <td>[{'id': 12, 'name': 'Adventure'}, {'id': 14, '...</td>\n",
       "      <td>NaN</td>\n",
       "      <td>8844</td>\n",
       "      <td>tt0113497</td>\n",
       "      <td>en</td>\n",
       "      <td>Jumanji</td>\n",
       "      <td>When siblings Judy and Peter discover an encha...</td>\n",
       "      <td>...</td>\n",
       "      <td>1995-12-15</td>\n",
       "      <td>262797249.0</td>\n",
       "      <td>104.0</td>\n",
       "      <td>[{'iso_639_1': 'en', 'name': 'English'}, {'iso...</td>\n",
       "      <td>Released</td>\n",
       "      <td>Roll the dice and unleash the excitement!</td>\n",
       "      <td>Jumanji</td>\n",
       "      <td>False</td>\n",
       "      <td>6.9</td>\n",
       "      <td>2413.0</td>\n",
       "    </tr>\n",
       "    <tr>\n",
       "      <th>2</th>\n",
       "      <td>False</td>\n",
       "      <td>{'id': 119050, 'name': 'Grumpy Old Men Collect...</td>\n",
       "      <td>0</td>\n",
       "      <td>[{'id': 10749, 'name': 'Romance'}, {'id': 35, ...</td>\n",
       "      <td>NaN</td>\n",
       "      <td>15602</td>\n",
       "      <td>tt0113228</td>\n",
       "      <td>en</td>\n",
       "      <td>Grumpier Old Men</td>\n",
       "      <td>A family wedding reignites the ancient feud be...</td>\n",
       "      <td>...</td>\n",
       "      <td>1995-12-22</td>\n",
       "      <td>0.0</td>\n",
       "      <td>101.0</td>\n",
       "      <td>[{'iso_639_1': 'en', 'name': 'English'}]</td>\n",
       "      <td>Released</td>\n",
       "      <td>Still Yelling. Still Fighting. Still Ready for...</td>\n",
       "      <td>Grumpier Old Men</td>\n",
       "      <td>False</td>\n",
       "      <td>6.5</td>\n",
       "      <td>92.0</td>\n",
       "    </tr>\n",
       "    <tr>\n",
       "      <th>3</th>\n",
       "      <td>False</td>\n",
       "      <td>NaN</td>\n",
       "      <td>16000000</td>\n",
       "      <td>[{'id': 35, 'name': 'Comedy'}, {'id': 18, 'nam...</td>\n",
       "      <td>NaN</td>\n",
       "      <td>31357</td>\n",
       "      <td>tt0114885</td>\n",
       "      <td>en</td>\n",
       "      <td>Waiting to Exhale</td>\n",
       "      <td>Cheated on, mistreated and stepped on, the wom...</td>\n",
       "      <td>...</td>\n",
       "      <td>1995-12-22</td>\n",
       "      <td>81452156.0</td>\n",
       "      <td>127.0</td>\n",
       "      <td>[{'iso_639_1': 'en', 'name': 'English'}]</td>\n",
       "      <td>Released</td>\n",
       "      <td>Friends are the people who let you be yourself...</td>\n",
       "      <td>Waiting to Exhale</td>\n",
       "      <td>False</td>\n",
       "      <td>6.1</td>\n",
       "      <td>34.0</td>\n",
       "    </tr>\n",
       "    <tr>\n",
       "      <th>4</th>\n",
       "      <td>False</td>\n",
       "      <td>{'id': 96871, 'name': 'Father of the Bride Col...</td>\n",
       "      <td>0</td>\n",
       "      <td>[{'id': 35, 'name': 'Comedy'}]</td>\n",
       "      <td>NaN</td>\n",
       "      <td>11862</td>\n",
       "      <td>tt0113041</td>\n",
       "      <td>en</td>\n",
       "      <td>Father of the Bride Part II</td>\n",
       "      <td>Just when George Banks has recovered from his ...</td>\n",
       "      <td>...</td>\n",
       "      <td>1995-02-10</td>\n",
       "      <td>76578911.0</td>\n",
       "      <td>106.0</td>\n",
       "      <td>[{'iso_639_1': 'en', 'name': 'English'}]</td>\n",
       "      <td>Released</td>\n",
       "      <td>Just When His World Is Back To Normal... He's ...</td>\n",
       "      <td>Father of the Bride Part II</td>\n",
       "      <td>False</td>\n",
       "      <td>5.7</td>\n",
       "      <td>173.0</td>\n",
       "    </tr>\n",
       "  </tbody>\n",
       "</table>\n",
       "<p>5 rows × 24 columns</p>\n",
       "</div>"
      ],
      "text/plain": [
       "   adult                              belongs_to_collection    budget  \\\n",
       "0  False  {'id': 10194, 'name': 'Toy Story Collection', ...  30000000   \n",
       "1  False                                                NaN  65000000   \n",
       "2  False  {'id': 119050, 'name': 'Grumpy Old Men Collect...         0   \n",
       "3  False                                                NaN  16000000   \n",
       "4  False  {'id': 96871, 'name': 'Father of the Bride Col...         0   \n",
       "\n",
       "                                              genres  \\\n",
       "0  [{'id': 16, 'name': 'Animation'}, {'id': 35, '...   \n",
       "1  [{'id': 12, 'name': 'Adventure'}, {'id': 14, '...   \n",
       "2  [{'id': 10749, 'name': 'Romance'}, {'id': 35, ...   \n",
       "3  [{'id': 35, 'name': 'Comedy'}, {'id': 18, 'nam...   \n",
       "4                     [{'id': 35, 'name': 'Comedy'}]   \n",
       "\n",
       "                               homepage     id    imdb_id original_language  \\\n",
       "0  http://toystory.disney.com/toy-story    862  tt0114709                en   \n",
       "1                                   NaN   8844  tt0113497                en   \n",
       "2                                   NaN  15602  tt0113228                en   \n",
       "3                                   NaN  31357  tt0114885                en   \n",
       "4                                   NaN  11862  tt0113041                en   \n",
       "\n",
       "                original_title  \\\n",
       "0                    Toy Story   \n",
       "1                      Jumanji   \n",
       "2             Grumpier Old Men   \n",
       "3            Waiting to Exhale   \n",
       "4  Father of the Bride Part II   \n",
       "\n",
       "                                            overview  ... release_date  \\\n",
       "0  Led by Woody, Andy's toys live happily in his ...  ...   1995-10-30   \n",
       "1  When siblings Judy and Peter discover an encha...  ...   1995-12-15   \n",
       "2  A family wedding reignites the ancient feud be...  ...   1995-12-22   \n",
       "3  Cheated on, mistreated and stepped on, the wom...  ...   1995-12-22   \n",
       "4  Just when George Banks has recovered from his ...  ...   1995-02-10   \n",
       "\n",
       "       revenue runtime                                   spoken_languages  \\\n",
       "0  373554033.0    81.0           [{'iso_639_1': 'en', 'name': 'English'}]   \n",
       "1  262797249.0   104.0  [{'iso_639_1': 'en', 'name': 'English'}, {'iso...   \n",
       "2          0.0   101.0           [{'iso_639_1': 'en', 'name': 'English'}]   \n",
       "3   81452156.0   127.0           [{'iso_639_1': 'en', 'name': 'English'}]   \n",
       "4   76578911.0   106.0           [{'iso_639_1': 'en', 'name': 'English'}]   \n",
       "\n",
       "     status                                            tagline  \\\n",
       "0  Released                                                NaN   \n",
       "1  Released          Roll the dice and unleash the excitement!   \n",
       "2  Released  Still Yelling. Still Fighting. Still Ready for...   \n",
       "3  Released  Friends are the people who let you be yourself...   \n",
       "4  Released  Just When His World Is Back To Normal... He's ...   \n",
       "\n",
       "                         title  video vote_average vote_count  \n",
       "0                    Toy Story  False          7.7     5415.0  \n",
       "1                      Jumanji  False          6.9     2413.0  \n",
       "2             Grumpier Old Men  False          6.5       92.0  \n",
       "3            Waiting to Exhale  False          6.1       34.0  \n",
       "4  Father of the Bride Part II  False          5.7      173.0  \n",
       "\n",
       "[5 rows x 24 columns]"
      ]
     },
     "execution_count": 3,
     "metadata": {},
     "output_type": "execute_result"
    }
   ],
   "source": [
    "film.head(5)"
   ]
  },
  {
   "cell_type": "markdown",
   "metadata": {},
   "source": [
    "\n",
    "#### Il data set dei film presenta le seguenti colonne:\n",
    "\n",
    "* Budget: il budget con cui è stato realizzato il film,\n",
    "\n",
    "* Generi: Il genere del film (Azione, Commedia, Thriller ecc.),\n",
    "\n",
    "* Homepage: Un link che reindirizza alla home page del film,\n",
    "\n",
    "* ID: questo è il movie_id,\n",
    "\n",
    "* Parole chiave: le parole chiave o i tag relativi ai film,\n",
    "\n",
    "* La lingua originale: la lingua in cui è stato realizzato il film,\n",
    "\n",
    "* Il titolo originale: il titolo del film prima della traduzione o dell'adattamento,\n",
    "\n",
    "* Panoramica: una breve descrizione del film,\n",
    "\n",
    "* Popolarità: una quantità numerica che specifica la popolarità del film,\n",
    "\n",
    "* La casa di produzione del film,\n",
    "\n",
    "* Il paese in cui è stato prodotto,\n",
    "\n",
    "* La data in cui è stato rilasciato,\n",
    "\n",
    "* Gli incassi: che fruttato il film in tutto il mondo,\n",
    "\n",
    "* Durata del film: il tempo di esecuzione del filmato in minuti,\n",
    "\n",
    "* Lo stato di errore: \"Rilasciato\" o \"Rumored\",\n",
    "\n",
    "* Tagline: tagline del film,\n",
    "\n",
    "* Titolo: titolo del film,\n",
    "\n",
    "* Valutazioni medie ricevute dai film,\n",
    "\n",
    "* Il conteggio dei voti ricevuti."
   ]
  },
  {
   "cell_type": "markdown",
   "metadata": {},
   "source": [
    "# FILTRO DEMOGRAFICO"
   ]
  },
  {
   "cell_type": "markdown",
   "metadata": {},
   "source": [
    "Prima di iniziare a implementare tale sistema dobbiamo prima definire:\n",
    "\n",
    "* #### Una metrica per il film,\n",
    "\n",
    "* #### Il calcolo grazie al quale assegniamo un punteggio a un film, inoltre bisogna identificare e segnare il film più votato dagli utenti.\n",
    "\n",
    "Quindi è necessario elaborare una valutazione ponderata che tenga conto della valutazione media e del numero di voti accumulati. Un tale sistema farà in modo che un film con un punteggio di 9 dato da 100.000 elettori, ottenga un punteggio (molto) più alto di un film con lo stesso punteggio ma dato da poche centinaia di elettori. La formula di valutazione ponderata come metrica / punteggi è la seguente:\n",
    "\n",
    ">#### Weighted Rating(WR)=(v/(v+m)∙R)+(m/(v+m)∙C)\n",
    "\n",
    "Dove:\n",
    "\n",
    ">>* v è il numero di voti per il film,\n",
    "\n",
    ">>* m sono i voti minimi richiesti per essere inseriti nella tabella,\n",
    "\n",
    ">>* R è la valutazione media del film,\n",
    "\n",
    ">>* C è il voto medio in tutta la relazione,\n",
    "\n",
    "Abbiamo già i valori per v (vote_count) e R (vote_average) per ogni film nel set di dati; grazie a ciò è possibile calcolare direttamente C nel modo seguente\n"
   ]
  },
  {
   "cell_type": "code",
   "execution_count": 4,
   "metadata": {},
   "outputs": [
    {
     "name": "stdout",
     "output_type": "stream",
     "text": [
      "5.618207215133889\n"
     ]
    }
   ],
   "source": [
    "C = film[\"vote_average\"].mean()\n",
    "print(C)"
   ]
  },
  {
   "cell_type": "markdown",
   "metadata": {},
   "source": [
    "Dall'output di cui sopra, si può osservare che la valutazione media di un film su IMDB è di circa 5,6 su una scala di 10.\n",
    "Il passo successivo è quello di determinare un valore appropriato per m, cioè il voto minimo da avere per essere inserito nel grafico. Il cutoff lo impostiamo sul 0.9, il che significa che un film per risultare nel grafico, deve avere più voti di almeno il 90% dei film della lista."
   ]
  },
  {
   "cell_type": "code",
   "execution_count": 5,
   "metadata": {},
   "outputs": [
    {
     "name": "stdout",
     "output_type": "stream",
     "text": [
      "160.0\n"
     ]
    }
   ],
   "source": [
    "m= film[\"vote_count\"].quantile(0.9)\n",
    "print(m)"
   ]
  },
  {
   "cell_type": "markdown",
   "metadata": {},
   "source": [
    "Dato che ora abbiamo la m possiamo semplicemente usare una condizione maggiore o uguale a 160 per filtrare i film.\n",
    "Il prossimo passo è quello di utilizzare la funzione .copy(),  assicurardoci cosi che il nuovo DataFrame che andremmo a creare sia indipendente dal DataFrame originale. In altre parole, qualsiasi modifica apportata al nuovo DataFrame non influirà sul frame dei dati originali."
   ]
  },
  {
   "cell_type": "code",
   "execution_count": 6,
   "metadata": {},
   "outputs": [
    {
     "data": {
      "text/plain": [
       "(4555, 24)"
      ]
     },
     "execution_count": 6,
     "metadata": {},
     "output_type": "execute_result"
    }
   ],
   "source": [
    "nuovo_film = film.copy().loc[film[\"vote_count\"] >= m]\n",
    "nuovo_film.shape"
   ]
  },
  {
   "cell_type": "code",
   "execution_count": 7,
   "metadata": {},
   "outputs": [
    {
     "data": {
      "text/plain": [
       "(45466, 24)"
      ]
     },
     "execution_count": 7,
     "metadata": {},
     "output_type": "execute_result"
    }
   ],
   "source": [
    "# ora dimostriamo quanti film di nuovo_film sulla totalità dei film rispettano la condizione che abbiamo prima posto\n",
    "film.shape"
   ]
  },
  {
   "cell_type": "markdown",
   "metadata": {},
   "source": [
    "> è chiaro che ci sono circa il 10% dei film (4555) con un conteggio dei voti superiore a 160, di conseguenza sono qualificati per essere collocati in tale lista.\n",
    "Ora calcoleremo la valutazione ponderata per ogni film qualificato. Per fare ciò:\n",
    "\n",
    "* #### Definiamo una funzione weighted_rating(),\n",
    "\n",
    "* #### Dal momento che abbiamo già calcolato m e C li useremo come argomento della funzione,\n",
    "\n",
    "* #### Selezioneremo le colonne vote_count(v) e vote_average(R) dal nuovo data frame (nuovo_film),\n",
    "\n",
    "* #### Infine, procederemmo calcolando la media ponderata e dandone il risultato."
   ]
  },
  {
   "cell_type": "code",
   "execution_count": 8,
   "metadata": {},
   "outputs": [],
   "source": [
    "# Funzione che calcola la valutazione ponderata di ogni filmato\n",
    "def weighted_rating(x, m=m, C=C):\n",
    "    v = x[\"vote_count\"]\n",
    "    R = x[\"vote_average\"]\n",
    "    # Calcolo basato sulla formula IMDB\n",
    "    return (v/(v+m) * R) + (m/(m+v) * C)"
   ]
  },
  {
   "cell_type": "code",
   "execution_count": 9,
   "metadata": {},
   "outputs": [],
   "source": [
    "# Definiamo una nuova funzione \"score\" (punteggio) e calcoliamo il valore con `weighted_rating()`\n",
    "nuovo_film[\"score\"] = nuovo_film.apply(weighted_rating, axis=1)"
   ]
  },
  {
   "cell_type": "markdown",
   "metadata": {},
   "source": [
    "> Infine, ordiniamo il DataFrame in ordine decrescente in base alla colonna delle caratteristiche (score) e otteniamo come output: \n",
    "\n",
    "* #### Il titolo, \n",
    "\n",
    "* #### Il conteggio dei voti,\n",
    "\n",
    "* #### La media dei voti, \n",
    "\n",
    "* #### La valutazione ponderata (punteggio) dei primi 10 film."
   ]
  },
  {
   "cell_type": "code",
   "execution_count": 10,
   "metadata": {},
   "outputs": [
    {
     "data": {
      "text/html": [
       "<div>\n",
       "<style scoped>\n",
       "    .dataframe tbody tr th:only-of-type {\n",
       "        vertical-align: middle;\n",
       "    }\n",
       "\n",
       "    .dataframe tbody tr th {\n",
       "        vertical-align: top;\n",
       "    }\n",
       "\n",
       "    .dataframe thead th {\n",
       "        text-align: right;\n",
       "    }\n",
       "</style>\n",
       "<table border=\"1\" class=\"dataframe\">\n",
       "  <thead>\n",
       "    <tr style=\"text-align: right;\">\n",
       "      <th></th>\n",
       "      <th>title</th>\n",
       "      <th>vote_count</th>\n",
       "      <th>vote_average</th>\n",
       "      <th>score</th>\n",
       "    </tr>\n",
       "  </thead>\n",
       "  <tbody>\n",
       "    <tr>\n",
       "      <th>314</th>\n",
       "      <td>The Shawshank Redemption</td>\n",
       "      <td>8358.0</td>\n",
       "      <td>8.5</td>\n",
       "      <td>8.445869</td>\n",
       "    </tr>\n",
       "    <tr>\n",
       "      <th>834</th>\n",
       "      <td>The Godfather</td>\n",
       "      <td>6024.0</td>\n",
       "      <td>8.5</td>\n",
       "      <td>8.425439</td>\n",
       "    </tr>\n",
       "    <tr>\n",
       "      <th>10309</th>\n",
       "      <td>Dilwale Dulhania Le Jayenge</td>\n",
       "      <td>661.0</td>\n",
       "      <td>9.1</td>\n",
       "      <td>8.421453</td>\n",
       "    </tr>\n",
       "    <tr>\n",
       "      <th>12481</th>\n",
       "      <td>The Dark Knight</td>\n",
       "      <td>12269.0</td>\n",
       "      <td>8.3</td>\n",
       "      <td>8.265477</td>\n",
       "    </tr>\n",
       "    <tr>\n",
       "      <th>2843</th>\n",
       "      <td>Fight Club</td>\n",
       "      <td>9678.0</td>\n",
       "      <td>8.3</td>\n",
       "      <td>8.256385</td>\n",
       "    </tr>\n",
       "    <tr>\n",
       "      <th>292</th>\n",
       "      <td>Pulp Fiction</td>\n",
       "      <td>8670.0</td>\n",
       "      <td>8.3</td>\n",
       "      <td>8.251406</td>\n",
       "    </tr>\n",
       "    <tr>\n",
       "      <th>522</th>\n",
       "      <td>Schindler's List</td>\n",
       "      <td>4436.0</td>\n",
       "      <td>8.3</td>\n",
       "      <td>8.206639</td>\n",
       "    </tr>\n",
       "    <tr>\n",
       "      <th>23673</th>\n",
       "      <td>Whiplash</td>\n",
       "      <td>4376.0</td>\n",
       "      <td>8.3</td>\n",
       "      <td>8.205404</td>\n",
       "    </tr>\n",
       "    <tr>\n",
       "      <th>5481</th>\n",
       "      <td>Spirited Away</td>\n",
       "      <td>3968.0</td>\n",
       "      <td>8.3</td>\n",
       "      <td>8.196055</td>\n",
       "    </tr>\n",
       "    <tr>\n",
       "      <th>2211</th>\n",
       "      <td>Life Is Beautiful</td>\n",
       "      <td>3643.0</td>\n",
       "      <td>8.3</td>\n",
       "      <td>8.187171</td>\n",
       "    </tr>\n",
       "  </tbody>\n",
       "</table>\n",
       "</div>"
      ],
      "text/plain": [
       "                             title  vote_count  vote_average     score\n",
       "314       The Shawshank Redemption      8358.0           8.5  8.445869\n",
       "834                  The Godfather      6024.0           8.5  8.425439\n",
       "10309  Dilwale Dulhania Le Jayenge       661.0           9.1  8.421453\n",
       "12481              The Dark Knight     12269.0           8.3  8.265477\n",
       "2843                    Fight Club      9678.0           8.3  8.256385\n",
       "292                   Pulp Fiction      8670.0           8.3  8.251406\n",
       "522               Schindler's List      4436.0           8.3  8.206639\n",
       "23673                     Whiplash      4376.0           8.3  8.205404\n",
       "5481                 Spirited Away      3968.0           8.3  8.196055\n",
       "2211             Life Is Beautiful      3643.0           8.3  8.187171"
      ]
     },
     "execution_count": 10,
     "metadata": {},
     "output_type": "execute_result"
    }
   ],
   "source": [
    "# Ordiniamo i film in base al punteggio calcolato precedentemente\n",
    "nuovo_film = nuovo_film.sort_values(\"score\", ascending=False)\n",
    "\n",
    "# Stampiamo (print) i primi 10 film\n",
    "nuovo_film[[\"title\", \"vote_count\", \"vote_average\", \"score\"]].head(10)"
   ]
  },
  {
   "cell_type": "code",
   "execution_count": 11,
   "metadata": {},
   "outputs": [
    {
     "data": {
      "text/plain": [
       "<Figure size 1080x576 with 0 Axes>"
      ]
     },
     "execution_count": 11,
     "metadata": {},
     "output_type": "execute_result"
    },
    {
     "data": {
      "text/plain": [
       "<BarContainer object of 15 artists>"
      ]
     },
     "execution_count": 11,
     "metadata": {},
     "output_type": "execute_result"
    },
    {
     "data": {
      "text/plain": [
       "Text(0.5, 0, 'Popolarità')"
      ]
     },
     "execution_count": 11,
     "metadata": {},
     "output_type": "execute_result"
    },
    {
     "data": {
      "text/plain": [
       "Text(0.5, 1.0, 'Film popolari')"
      ]
     },
     "execution_count": 11,
     "metadata": {},
     "output_type": "execute_result"
    },
    {
     "data": {
      "image/png": "[encoded data removed]",
      "text/plain": [
       "<Figure size 1080x576 with 1 Axes>"
      ]
     },
     "metadata": {
      "needs_background": "light"
     },
     "output_type": "display_data"
    }
   ],
   "source": [
    "# plotiamo i film in base alla loro popolarità\n",
    "popolarità= nuovo_film.sort_values(\"popularity\", ascending=True)\n",
    "import matplotlib.pyplot as plt\n",
    "plt.figure(figsize=(15,8))\n",
    "plt.barh(popolarità[\"title\"].head(15),popolarità[\"popularity\"].head(15), align=\"center\",\n",
    "        color=\"darkcyan\")\n",
    "plt.gca().invert_yaxis()\n",
    "plt.xlabel(\"Popolarità\")\n",
    "plt.title(\"Film popolari\")"
   ]
  },
  {
   "cell_type": "markdown",
   "metadata": {},
   "source": [
    "# FILTRO BASATO SUL CONTENUTO "
   ]
  },
  {
   "cell_type": "markdown",
   "metadata": {},
   "source": [
    "#### Raccomandatore basato sulla descrizione della trama\n",
    "\n",
    "In questa sezione creeremo un sistema che consiglia film simili a un film in particolare; ad es. il contenuto del film (panoramica, cast, troupe, parola chiave, slogan ecc) viene utilizzato per trovare la sua somiglianza con altri film. Per ottenere ciò, calcoleremo i punteggi di somiglianza (cosine) a coppie per tutti i film in base alle descrizioni della trama e consiglieremo i film che hanno più probabilità di essere simili.\n",
    "\n",
    "La descrizione del grafico è fornita dalla funzionalità overview, questa si trova allocata all’interno del set di dati. Esaminiamo le trame di alcuni film"
   ]
  },
  {
   "cell_type": "code",
   "execution_count": 12,
   "metadata": {},
   "outputs": [
    {
     "data": {
      "text/plain": [
       "0    Led by Woody, Andy's toys live happily in his ...\n",
       "1    When siblings Judy and Peter discover an encha...\n",
       "2    A family wedding reignites the ancient feud be...\n",
       "3    Cheated on, mistreated and stepped on, the wom...\n",
       "4    Just when George Banks has recovered from his ...\n",
       "5    Obsessive master thief, Neil McCauley leads a ...\n",
       "6    An ugly duckling having undergone a remarkable...\n",
       "Name: overview, dtype: object"
      ]
     },
     "execution_count": 12,
     "metadata": {},
     "output_type": "execute_result"
    }
   ],
   "source": [
    "# Stampiamo la panoramica della trama dei primi 7 film\n",
    "film[\"overview\"].head(7)"
   ]
  },
  {
   "cell_type": "markdown",
   "metadata": {},
   "source": [
    "Il problema in questione è un problema di elaborazione del linguaggio naturale.  Per dirla semplicemente, non è possibile calcolare la somiglianza tra due panoramiche qualsiasi nelle loro forme grezze. Per fare ciò, è necessario calcolare i vettori di parole di ogni panoramica o documento.\n",
    "\n",
    "I vettori di parole sono rappresentazioni vettorializzate di parole in un documento. I vettori portano con sé un significato semantico. Ad esempio, uomo e re avranno rappresentazioni vettoriali vicine l'una all'altra mentre uomo e donna avranno rappresentazioni lontane l'una dall'altra.\n",
    "\n",
    "Ora calcoleremo i vettori Term Frequency-Inverse Document Frequency (TF-IDF) per ogni documento. Cosi facendo otterremo una matrice in cui ogni colonna rappresenta una parola nel vocabolario generale (tutte le parole che compaiono in almeno un documento), e ogni colonna rappresenta un film.\n",
    "\n",
    "Il punteggio TF-IDF è la frequenza con cui una parola ricorre in un documento, ridotta in base al numero di documenti in cui appare. Questo viene fatto per ridurre l'importanza delle parole che riappagliono frequentemente nelle panoramiche della trama e, quindi, il loro significato nel calcolo del punteggio di somiglianza finale.\n",
    "\n",
    "> Fortunatamente, la libreria scikit-learn offre la funzione TfIdfVectorizer che produce la matrice TF-IDF in un paio di righe. Dunque queste sono le operazioni che ora ci accingiamo a svolgere:\n",
    "\n",
    "* #### Importeremo il modulo Tfidf usando scikit-learn,\n",
    "\n",
    "* #### Rimuoveremo le parole chiave come \"la\", \"una\", ecc. Poiché non forniscono informazioni utili sull'argomento,\n",
    "\n",
    "* #### Sostituiremo i valori non numerici con una stringa vuota,\n",
    "\n",
    "* #### Costruiremo la matrice TF-IDF sui dati.\n"
   ]
  },
  {
   "cell_type": "code",
   "execution_count": 13,
   "metadata": {},
   "outputs": [
    {
     "data": {
      "text/plain": [
       "(45466, 75827)"
      ]
     },
     "execution_count": 13,
     "metadata": {},
     "output_type": "execute_result"
    }
   ],
   "source": [
    "# Importiamo TfIdfVectorizer da scikit-learn\n",
    "from sklearn.feature_extraction.text import TfidfVectorizer\n",
    "\n",
    "# Definiamo un vettore di oggetti  TF-IDF . Rimuoviamo tutte le parole inglesi non significative come as 'the', 'a'\n",
    "tf_idf = TfidfVectorizer(stop_words=\"english\")\n",
    "\n",
    "# Sostituiamo i NaN con una stringa vuota\n",
    "film[\"overview\"] = film[\"overview\"].fillna(\"\")\n",
    "\n",
    "# Costruiamo la matrice TF-IDF utilizzando i dati trasformati\n",
    "matrice_tfidf = tf_idf.fit_transform(film[\"overview\"])\n",
    "\n",
    "# Vediamo l'output della matrice tfidf\n",
    "matrice_tfidf.shape"
   ]
  },
  {
   "cell_type": "markdown",
   "metadata": {},
   "source": [
    "75.827 parole diverse sono state usate per descrivere i 45.466 film del set di dati.\n",
    "\n",
    "Con questa matrice, ora possiamo calcolare un punteggio di somiglianza. In questo caso, utilizziamo la cosine similarity per calcolare una quantità numerica che denota la somiglianza tra due film. In questo particolare caso utilizziamo la cosine similarity perché è indipendente dalla magnitudine ed è relativamente facile e veloce da calcolare (specialmente se utilizzato insieme ai punteggi TF-IDF).\n",
    "\n",
    "Siccome abbiamo adoperato il vettorizzatore TF-IDF, il calcolo del prodotto scalare tra ogni vettore ci darà direttamente la cosine similarity. Dunque, utilizzeremo la funzione sklearn's linear_kernel() invece di cosine_similarities() in quanto è più veloce di quest’ultima.\n"
   ]
  },
  {
   "cell_type": "code",
   "execution_count": 14,
   "metadata": {},
   "outputs": [],
   "source": [
    "# Importiamo linear_kernel\n",
    "from sklearn.metrics.pairwise import linear_kernel\n",
    "\n",
    "# Calcoliamo la matrice della cosine similarity \n",
    "cosine_sim = linear_kernel(matrice_tfidf, matrice_tfidf)"
   ]
  },
  {
   "cell_type": "code",
   "execution_count": 15,
   "metadata": {},
   "outputs": [
    {
     "data": {
      "text/plain": [
       "(45466, 45466)"
      ]
     },
     "execution_count": 15,
     "metadata": {},
     "output_type": "execute_result"
    },
    {
     "data": {
      "text/plain": [
       "array([0.01504121, 1.        , 0.04681953, ..., 0.        , 0.02198641,\n",
       "       0.00929411])"
      ]
     },
     "execution_count": 15,
     "metadata": {},
     "output_type": "execute_result"
    }
   ],
   "source": [
    "# Ora diamo dismostrazione di quanti elementi ha la matrice di similarità ma sopratutto di come sia stata creata\n",
    "cosine_sim.shape\n",
    "cosine_sim[1]"
   ]
  },
  {
   "cell_type": "markdown",
   "metadata": {},
   "source": [
    "Procediamo predisponendo una funzione che accetta in input il titolo di un film e genera in output un elenco dei 15 film più simili. \n",
    "\n",
    "In primo luogo, effettueremo una mappatura inversa dei titoli dei film e degli indici del DataFrame. In altre parole, creeremo un meccanismo per identificare l'indice di un film nel tuo DataFrame (film), dato il suo titolo."
   ]
  },
  {
   "cell_type": "code",
   "execution_count": 16,
   "metadata": {},
   "outputs": [],
   "source": [
    "# Costruiamo una mappa inversa degli indici e titoli dei film\n",
    "indici = pd.Series(film.index, index=film[\"title\"]).drop_duplicates()"
   ]
  },
  {
   "cell_type": "code",
   "execution_count": 17,
   "metadata": {},
   "outputs": [
    {
     "data": {
      "text/plain": [
       "title\n",
       "Toy Story                      0\n",
       "Jumanji                        1\n",
       "Grumpier Old Men               2\n",
       "Waiting to Exhale              3\n",
       "Father of the Bride Part II    4\n",
       "dtype: int64"
      ]
     },
     "execution_count": 17,
     "metadata": {},
     "output_type": "execute_result"
    }
   ],
   "source": [
    "# Diamo dimostrazione di come sono stati creati gli indici visualizzandone i primi 5\n",
    "indici[:5]"
   ]
  },
  {
   "cell_type": "markdown",
   "metadata": {},
   "source": [
    ">  Per definire la funzione di raccomandazione, questi sono i passaggi che eseguiremo:\n",
    "\n",
    "* #### Otterremo l'indice del film dato il suo titolo,\n",
    "\n",
    "* #### Otterremo l'elenco dei punteggi della cosine similarity per un film in particolare fra tutti i film. L’elenco così ottenuto, lo convertiremo in un elenco di tuple in cui il primo elemento è la sua posizione e il secondo è il punteggio di somiglianza,\n",
    "\n",
    "* #### Ordineremo l'elenco di tuple sopra menzionato in base ai punteggi di somiglianza (cioè il secondo elemento),\n",
    "\n",
    "* #### Otterremo i primi 15 elementi dell’elenco delle tuple ordinate. Possiamo anche ignorare il primo elemento in quanto si riferisce a se stesso (il filmato più simile a un particolare filmato è esso stesso),\n",
    "\n",
    "* #### Restituiremo i titoli corrispondenti agli indici degli elementi superiori."
   ]
  },
  {
   "cell_type": "code",
   "execution_count": 18,
   "metadata": {},
   "outputs": [],
   "source": [
    "# Questa è la funzione che prende come input il titolo del film e restituisce in output dei film simili\n",
    "def get_recommendations(title, cosine_sim=cosine_sim):\n",
    "    # Otteniamo l'indice del film che che corrisponde al titolo scelto\n",
    "    ind = indici[title]\n",
    "\n",
    "    # Otteniamo i punteggi di  pairwsie similarity di tutti i film rispetto al film da noi selezionato\n",
    "    punteggio_sim = list(enumerate(cosine_sim[ind]))\n",
    "\n",
    "    # Ordiniamo i film in base ai punteggi di somiglianza\n",
    "    punteggio_sim = sorted(punteggio_sim, key=lambda x: x[1], reverse=True)\n",
    "\n",
    "    # Otteniamo i punteggi dei 15 film più simili\n",
    "    punteggio_sim = punteggio_sim[1:16]\n",
    "\n",
    "    # Otteniamo gli indici dei film\n",
    "    indici_film = [i[0] for i in punteggio_sim]\n",
    "\n",
    "    # Restituiamo i primi 15 film più simili\n",
    "    return film[\"title\"].iloc[indici_film]"
   ]
  },
  {
   "cell_type": "code",
   "execution_count": 19,
   "metadata": {},
   "outputs": [
    {
     "data": {
      "text/plain": [
       "12481                                      The Dark Knight\n",
       "150                                         Batman Forever\n",
       "1328                                        Batman Returns\n",
       "15511                           Batman: Under the Red Hood\n",
       "585                                                 Batman\n",
       "21194    Batman Unmasked: The Psychology of the Dark Kn...\n",
       "9230                    Batman Beyond: Return of the Joker\n",
       "18035                                     Batman: Year One\n",
       "19792              Batman: The Dark Knight Returns, Part 1\n",
       "3095                          Batman: Mask of the Phantasm\n",
       "35983                                    Batman: Bad Blood\n",
       "20232              Batman: The Dark Knight Returns, Part 2\n",
       "40974    LEGO DC Comics Super Heroes: Batman: Be-Leaguered\n",
       "10122                                        Batman Begins\n",
       "41982    Batman Beyond Darwyn Cooke's Batman 75th Anniv...\n",
       "Name: title, dtype: object"
      ]
     },
     "execution_count": 19,
     "metadata": {},
     "output_type": "execute_result"
    }
   ],
   "source": [
    "# Facciamo un test per vedere se il recommender funziona, la prova la eseguiamo con il film \"The Dark Knight Rises\"\n",
    "get_recommendations(\"The Dark Knight Rises\") "
   ]
  },
  {
   "cell_type": "code",
   "execution_count": 20,
   "metadata": {},
   "outputs": [
    {
     "data": {
      "text/plain": [
       "15348                                     Toy Story 3\n",
       "2997                                      Toy Story 2\n",
       "10301                          The 40 Year Old Virgin\n",
       "24523                                       Small Fry\n",
       "23843                     Andy Hardy's Blonde Trouble\n",
       "29202                                      Hot Splash\n",
       "43427                Andy Kaufman Plays Carnegie Hall\n",
       "38476    Superstar: The Life and Times of Andy Warhol\n",
       "42721    Andy Peters: Exclamation Mark Question Point\n",
       "8327                                        The Champ\n",
       "27206                      Life Begins for Andy Hardy\n",
       "1071                            Rebel Without a Cause\n",
       "36094                            Welcome to Happiness\n",
       "40261                                   Wabash Avenue\n",
       "1932                                        Condorman\n",
       "Name: title, dtype: object"
      ]
     },
     "execution_count": 20,
     "metadata": {},
     "output_type": "execute_result"
    }
   ],
   "source": [
    "# Facciamo un test per vedere se il recommender funziona, la prova la eseguiamo con il film \"Toy Story\"\n",
    "get_recommendations(\"Toy Story\") "
   ]
  },
  {
   "cell_type": "code",
   "execution_count": 21,
   "metadata": {},
   "outputs": [
    {
     "data": {
      "text/plain": [
       "21633                   Table No. 21\n",
       "45253                           Quiz\n",
       "41573                   Snowed Under\n",
       "35509                       The Mend\n",
       "44376              Liar Game: Reborn\n",
       "17223                 The Dark Angel\n",
       "8801                         Quintet\n",
       "6166                       Brainscan\n",
       "30981                   Turkey Shoot\n",
       "9503                       Word Wars\n",
       "39938                      Beta Test\n",
       "13601    The Mindscape of Alan Moore\n",
       "13711                     Rhinoceros\n",
       "16843                         DeVour\n",
       "8079                         Masques\n",
       "Name: title, dtype: object"
      ]
     },
     "execution_count": 21,
     "metadata": {},
     "output_type": "execute_result"
    }
   ],
   "source": [
    "# Facciamo un test per vedere se il recommender funziona, la prova la eseguiamo con il film \"Jumanji\"\n",
    "get_recommendations(\"Jumanji\") "
   ]
  },
  {
   "cell_type": "code",
   "execution_count": 22,
   "metadata": {},
   "outputs": [
    {
     "data": {
      "text/plain": [
       "18684     The Dark Side of the Sun\n",
       "34039          Three Little Wolves\n",
       "20068    Spring Break Shark Attack\n",
       "17785                         I Am\n",
       "37935                Klondike Kate\n",
       "9748             The Four Feathers\n",
       "25250          Sport, Sport, Sport\n",
       "14421              The Fourth Kind\n",
       "288                       Outbreak\n",
       "3899            The House of Mirth\n",
       "37236                  Wolf Summer\n",
       "27711             Two Years at Sea\n",
       "14031                     Bandslam\n",
       "8079                       Masques\n",
       "7541                A Better Place\n",
       "Name: title, dtype: object"
      ]
     },
     "execution_count": 22,
     "metadata": {},
     "output_type": "execute_result"
    }
   ],
   "source": [
    "# Facciamo un test per vedere se il recommender funziona, la prova la eseguiamo con il film \"Balto\"\n",
    "get_recommendations(\"Balto\")"
   ]
  },
  {
   "cell_type": "code",
   "execution_count": 23,
   "metadata": {},
   "outputs": [
    {
     "data": {
      "text/plain": [
       "13308                                       Aspen\n",
       "5175                  Three Men and a Little Lady\n",
       "184                                    Party Girl\n",
       "23269                           Broadway Serenade\n",
       "31883                          The Lazarus Papers\n",
       "30386                             Fiasco in Milan\n",
       "16684                            When Ladies Meet\n",
       "17300                            When Ladies Meet\n",
       "32284                              Mary and Rhoda\n",
       "21081                                The Neighbor\n",
       "42966                         A Date for Mad Mary\n",
       "20093                             That Hagen Girl\n",
       "9321     Balzac and the Little Chinese Seamstress\n",
       "7481                             Straight to Hell\n",
       "21449                                    Madhouse\n",
       "Name: title, dtype: object"
      ]
     },
     "execution_count": 23,
     "metadata": {},
     "output_type": "execute_result"
    }
   ],
   "source": [
    "# Facciamo un test per vedere se il recommender funziona, la prova la eseguiamo con il film \"Dumb and Dumber\"\n",
    "get_recommendations(\"Dumb and Dumber\")"
   ]
  },
  {
   "cell_type": "code",
   "execution_count": 24,
   "metadata": {},
   "outputs": [
    {
     "data": {
      "text/plain": [
       "1178                                The Godfather: Part II\n",
       "44030                     The Godfather Trilogy: 1972-1990\n",
       "1914                               The Godfather: Part III\n",
       "23126                                           Blood Ties\n",
       "11297                                     Household Saints\n",
       "34717                                    Start Liquidation\n",
       "10821                                             Election\n",
       "38030                             A Mother Should Be Loved\n",
       "17729                                    Short Sharp Shock\n",
       "26293                                   Beck 28 - Familjen\n",
       "30787                                    The Sign of Venus\n",
       "8653                                          Violent City\n",
       "30169    Paolo Barca, maestro elementare, praticamente ...\n",
       "13177                                         I Am the Law\n",
       "26660                                             Suddenly\n",
       "Name: title, dtype: object"
      ]
     },
     "execution_count": 24,
     "metadata": {},
     "output_type": "execute_result"
    }
   ],
   "source": [
    "# Facciamo un test per vedere se il recommender funziona, la prova la eseguiamo con il film \"The Godfather\"\n",
    "get_recommendations(\"The Godfather\")"
   ]
  },
  {
   "cell_type": "markdown",
   "metadata": {},
   "source": [
    "Visionando queste raccomandazioni si capisce una cosa, sebbene il sistema ha fatto un buon lavoro nel trovare film con descrizioni di trama simili, la qualità dei consigli non è eccezionale. \"The Dark Knight Rises\" restituisce tutti i film di Batman, ma probabilmente le persone a cui è piaciuto quel film sono più inclini a vedere altri film di Christopher Nolan. Questo è un qualcosa che non può essere carpito dal sistema così com’è attualmente."
   ]
  },
  {
   "cell_type": "markdown",
   "metadata": {},
   "source": [
    "# RICONOSCIMENTI, GENERI E SUGGERIMENTI BASATI SU PAROLE CHIAVE\n",
    "\n",
    "La qualità del recommender system aumenta se si usano dei metadati migliori. Questo è esattamente ciò che ci accingiamo a fare ora. Costruiremo un recommender system basato sui seguenti metadati: \n",
    "\n",
    "* I 3 attori principali,\n",
    "\n",
    "* Il regista,\n",
    "\n",
    "* I generi correlati,\n",
    "\n",
    "* Le parole chiave della trama del film.\n",
    "\n",
    "C'è da notare che le parole chiave,  non sono disponibili nel set di dati corrente, quindi ora li caricheremo e li uniremo nel DataFrame principale film."
   ]
  },
  {
   "cell_type": "code",
   "execution_count": 25,
   "metadata": {},
   "outputs": [],
   "source": [
    "# Carichiamo keywords e credits\n",
    "crediti = pd.read_csv(\"credits.csv\")\n",
    "parole_chiave = pd.read_csv(\"keywords.csv\")\n",
    "\n",
    "# Rimuoviamo le righe con dei cattivi ID\n",
    "film = film.drop([19730, 29503, 35587])\n",
    "\n",
    "# Convertiamo gli ID in int. facciamo ciò per riunire tutti i dati in un dataframe\n",
    "parole_chiave[\"id\"] = parole_chiave[\"id\"].astype(\"int\")\n",
    "crediti[\"id\"] = crediti[\"id\"].astype(\"int\")\n",
    "film[\"id\"] = film[\"id\"].astype(\"int\")\n",
    "\n",
    "# Uniamo le parole chiave e i crediti nel dataframe principale (cioè film)\n",
    "film = film.merge(crediti, on=\"id\")\n",
    "film = film.merge(parole_chiave, on=\"id\")"
   ]
  },
  {
   "cell_type": "code",
   "execution_count": 26,
   "metadata": {},
   "outputs": [
    {
     "data": {
      "text/html": [
       "<div>\n",
       "<style scoped>\n",
       "    .dataframe tbody tr th:only-of-type {\n",
       "        vertical-align: middle;\n",
       "    }\n",
       "\n",
       "    .dataframe tbody tr th {\n",
       "        vertical-align: top;\n",
       "    }\n",
       "\n",
       "    .dataframe thead th {\n",
       "        text-align: right;\n",
       "    }\n",
       "</style>\n",
       "<table border=\"1\" class=\"dataframe\">\n",
       "  <thead>\n",
       "    <tr style=\"text-align: right;\">\n",
       "      <th></th>\n",
       "      <th>adult</th>\n",
       "      <th>belongs_to_collection</th>\n",
       "      <th>budget</th>\n",
       "      <th>genres</th>\n",
       "      <th>homepage</th>\n",
       "      <th>id</th>\n",
       "      <th>imdb_id</th>\n",
       "      <th>original_language</th>\n",
       "      <th>original_title</th>\n",
       "      <th>overview</th>\n",
       "      <th>...</th>\n",
       "      <th>spoken_languages</th>\n",
       "      <th>status</th>\n",
       "      <th>tagline</th>\n",
       "      <th>title</th>\n",
       "      <th>video</th>\n",
       "      <th>vote_average</th>\n",
       "      <th>vote_count</th>\n",
       "      <th>cast</th>\n",
       "      <th>crew</th>\n",
       "      <th>keywords</th>\n",
       "    </tr>\n",
       "  </thead>\n",
       "  <tbody>\n",
       "    <tr>\n",
       "      <th>0</th>\n",
       "      <td>False</td>\n",
       "      <td>{'id': 10194, 'name': 'Toy Story Collection', ...</td>\n",
       "      <td>30000000</td>\n",
       "      <td>[{'id': 16, 'name': 'Animation'}, {'id': 35, '...</td>\n",
       "      <td>http://toystory.disney.com/toy-story</td>\n",
       "      <td>862</td>\n",
       "      <td>tt0114709</td>\n",
       "      <td>en</td>\n",
       "      <td>Toy Story</td>\n",
       "      <td>Led by Woody, Andy's toys live happily in his ...</td>\n",
       "      <td>...</td>\n",
       "      <td>[{'iso_639_1': 'en', 'name': 'English'}]</td>\n",
       "      <td>Released</td>\n",
       "      <td>NaN</td>\n",
       "      <td>Toy Story</td>\n",
       "      <td>False</td>\n",
       "      <td>7.7</td>\n",
       "      <td>5415.0</td>\n",
       "      <td>[{'cast_id': 14, 'character': 'Woody (voice)',...</td>\n",
       "      <td>[{'credit_id': '52fe4284c3a36847f8024f49', 'de...</td>\n",
       "      <td>[{'id': 931, 'name': 'jealousy'}, {'id': 4290,...</td>\n",
       "    </tr>\n",
       "    <tr>\n",
       "      <th>1</th>\n",
       "      <td>False</td>\n",
       "      <td>NaN</td>\n",
       "      <td>65000000</td>\n",
       "      <td>[{'id': 12, 'name': 'Adventure'}, {'id': 14, '...</td>\n",
       "      <td>NaN</td>\n",
       "      <td>8844</td>\n",
       "      <td>tt0113497</td>\n",
       "      <td>en</td>\n",
       "      <td>Jumanji</td>\n",
       "      <td>When siblings Judy and Peter discover an encha...</td>\n",
       "      <td>...</td>\n",
       "      <td>[{'iso_639_1': 'en', 'name': 'English'}, {'iso...</td>\n",
       "      <td>Released</td>\n",
       "      <td>Roll the dice and unleash the excitement!</td>\n",
       "      <td>Jumanji</td>\n",
       "      <td>False</td>\n",
       "      <td>6.9</td>\n",
       "      <td>2413.0</td>\n",
       "      <td>[{'cast_id': 1, 'character': 'Alan Parrish', '...</td>\n",
       "      <td>[{'credit_id': '52fe44bfc3a36847f80a7cd1', 'de...</td>\n",
       "      <td>[{'id': 10090, 'name': 'board game'}, {'id': 1...</td>\n",
       "    </tr>\n",
       "    <tr>\n",
       "      <th>2</th>\n",
       "      <td>False</td>\n",
       "      <td>{'id': 119050, 'name': 'Grumpy Old Men Collect...</td>\n",
       "      <td>0</td>\n",
       "      <td>[{'id': 10749, 'name': 'Romance'}, {'id': 35, ...</td>\n",
       "      <td>NaN</td>\n",
       "      <td>15602</td>\n",
       "      <td>tt0113228</td>\n",
       "      <td>en</td>\n",
       "      <td>Grumpier Old Men</td>\n",
       "      <td>A family wedding reignites the ancient feud be...</td>\n",
       "      <td>...</td>\n",
       "      <td>[{'iso_639_1': 'en', 'name': 'English'}]</td>\n",
       "      <td>Released</td>\n",
       "      <td>Still Yelling. Still Fighting. Still Ready for...</td>\n",
       "      <td>Grumpier Old Men</td>\n",
       "      <td>False</td>\n",
       "      <td>6.5</td>\n",
       "      <td>92.0</td>\n",
       "      <td>[{'cast_id': 2, 'character': 'Max Goldman', 'c...</td>\n",
       "      <td>[{'credit_id': '52fe466a9251416c75077a89', 'de...</td>\n",
       "      <td>[{'id': 1495, 'name': 'fishing'}, {'id': 12392...</td>\n",
       "    </tr>\n",
       "  </tbody>\n",
       "</table>\n",
       "<p>3 rows × 27 columns</p>\n",
       "</div>"
      ],
      "text/plain": [
       "   adult                              belongs_to_collection    budget  \\\n",
       "0  False  {'id': 10194, 'name': 'Toy Story Collection', ...  30000000   \n",
       "1  False                                                NaN  65000000   \n",
       "2  False  {'id': 119050, 'name': 'Grumpy Old Men Collect...         0   \n",
       "\n",
       "                                              genres  \\\n",
       "0  [{'id': 16, 'name': 'Animation'}, {'id': 35, '...   \n",
       "1  [{'id': 12, 'name': 'Adventure'}, {'id': 14, '...   \n",
       "2  [{'id': 10749, 'name': 'Romance'}, {'id': 35, ...   \n",
       "\n",
       "                               homepage     id    imdb_id original_language  \\\n",
       "0  http://toystory.disney.com/toy-story    862  tt0114709                en   \n",
       "1                                   NaN   8844  tt0113497                en   \n",
       "2                                   NaN  15602  tt0113228                en   \n",
       "\n",
       "     original_title                                           overview  ...  \\\n",
       "0         Toy Story  Led by Woody, Andy's toys live happily in his ...  ...   \n",
       "1           Jumanji  When siblings Judy and Peter discover an encha...  ...   \n",
       "2  Grumpier Old Men  A family wedding reignites the ancient feud be...  ...   \n",
       "\n",
       "                                    spoken_languages    status  \\\n",
       "0           [{'iso_639_1': 'en', 'name': 'English'}]  Released   \n",
       "1  [{'iso_639_1': 'en', 'name': 'English'}, {'iso...  Released   \n",
       "2           [{'iso_639_1': 'en', 'name': 'English'}]  Released   \n",
       "\n",
       "                                             tagline             title  video  \\\n",
       "0                                                NaN         Toy Story  False   \n",
       "1          Roll the dice and unleash the excitement!           Jumanji  False   \n",
       "2  Still Yelling. Still Fighting. Still Ready for...  Grumpier Old Men  False   \n",
       "\n",
       "   vote_average  vote_count  \\\n",
       "0           7.7      5415.0   \n",
       "1           6.9      2413.0   \n",
       "2           6.5        92.0   \n",
       "\n",
       "                                                cast  \\\n",
       "0  [{'cast_id': 14, 'character': 'Woody (voice)',...   \n",
       "1  [{'cast_id': 1, 'character': 'Alan Parrish', '...   \n",
       "2  [{'cast_id': 2, 'character': 'Max Goldman', 'c...   \n",
       "\n",
       "                                                crew  \\\n",
       "0  [{'credit_id': '52fe4284c3a36847f8024f49', 'de...   \n",
       "1  [{'credit_id': '52fe44bfc3a36847f80a7cd1', 'de...   \n",
       "2  [{'credit_id': '52fe466a9251416c75077a89', 'de...   \n",
       "\n",
       "                                            keywords  \n",
       "0  [{'id': 931, 'name': 'jealousy'}, {'id': 4290,...  \n",
       "1  [{'id': 10090, 'name': 'board game'}, {'id': 1...  \n",
       "2  [{'id': 1495, 'name': 'fishing'}, {'id': 12392...  \n",
       "\n",
       "[3 rows x 27 columns]"
      ]
     },
     "execution_count": 26,
     "metadata": {},
     "output_type": "execute_result"
    }
   ],
   "source": [
    "# Stampiamo i primi tre film dei metadati appena uniti\n",
    "film.head(3)"
   ]
  },
  {
   "cell_type": "markdown",
   "metadata": {},
   "source": [
    "Dalle nuove caratteristiche, cast, troupe e parole chiave, dobbiamo estrarre i tre attori più importanti, il regista e le parole chiave associate a quel film.\n",
    "Innanzitutto convertiamo i dati in modo da poterli utilizzare, in quanto allo stato attuale sono presenti sotto forma di elenchi “stringati”.\n"
   ]
  },
  {
   "cell_type": "code",
   "execution_count": 27,
   "metadata": {},
   "outputs": [],
   "source": [
    "# Analizziamo le caratteristiche stringificate negli oggetti python corrispondenti\n",
    "from ast import literal_eval\n",
    "\n",
    "caratteristiche = [\"cast\", \"crew\", \"keywords\", \"genres\"]\n",
    "for feature in caratteristiche:\n",
    "    film[feature] = film[feature].apply(literal_eval)"
   ]
  },
  {
   "cell_type": "markdown",
   "metadata": {},
   "source": [
    "Adoperiamo la funzione get_director() del pacchetto NumPy (lo abbiamo richiamato nelle prime righe di codice), per ottenere il nome del regista dal film della troupe. Se il regista non è elencato, torna a NaN."
   ]
  },
  {
   "cell_type": "code",
   "execution_count": 28,
   "metadata": {},
   "outputs": [],
   "source": [
    "# Prendiamo il nome del regista dalla funzione dell'equip. Se il direttore non è presente nell'elenco,restituiremo NaN\n",
    "def get_director(x):\n",
    "    for i in x:\n",
    "        if i[\"job\"] == \"Director\":\n",
    "            return i[\"name\"]\n",
    "    return np.nan"
   ]
  },
  {
   "cell_type": "code",
   "execution_count": 29,
   "metadata": {},
   "outputs": [],
   "source": [
    "# Restituiamo l'elenco dei primi 3 elementi o dell'intero elenco.l'elenco si riferisce al cast, le parole chiave e ai generi\n",
    "def get_list(x):\n",
    "    if isinstance(x, list):\n",
    "        nomi = [i[\"name\"] for i in x]\n",
    "    # Controlliamo se esistono più di 3 elementi. In caso affermativo, restituiamo solo i primi tre. In caso contrario, l'intero elenco.\n",
    "        if len(nomi) > 3:\n",
    "            nomi = nomi[:3]\n",
    "        return nomi\n",
    "\n",
    "    # Restituiamo un elenco vuoto in caso di dati mancanti\n",
    "    return []"
   ]
  },
  {
   "cell_type": "code",
   "execution_count": 30,
   "metadata": {},
   "outputs": [],
   "source": [
    "# Definiamo le nuove caratteristiche del regista, del cast, dei generi e delle parole chiave che ora sono in un formato adatto\n",
    "film[\"director\"] = film[\"crew\"].apply(get_director)\n",
    "\n",
    "caratteristiche = [\"cast\", \"keywords\", \"genres\"]\n",
    "for feature in caratteristiche:\n",
    "    film[feature] = film[feature].apply(get_list)"
   ]
  },
  {
   "cell_type": "code",
   "execution_count": 31,
   "metadata": {},
   "outputs": [
    {
     "data": {
      "text/html": [
       "<div>\n",
       "<style scoped>\n",
       "    .dataframe tbody tr th:only-of-type {\n",
       "        vertical-align: middle;\n",
       "    }\n",
       "\n",
       "    .dataframe tbody tr th {\n",
       "        vertical-align: top;\n",
       "    }\n",
       "\n",
       "    .dataframe thead th {\n",
       "        text-align: right;\n",
       "    }\n",
       "</style>\n",
       "<table border=\"1\" class=\"dataframe\">\n",
       "  <thead>\n",
       "    <tr style=\"text-align: right;\">\n",
       "      <th></th>\n",
       "      <th>title</th>\n",
       "      <th>cast</th>\n",
       "      <th>director</th>\n",
       "      <th>keywords</th>\n",
       "      <th>genres</th>\n",
       "    </tr>\n",
       "  </thead>\n",
       "  <tbody>\n",
       "    <tr>\n",
       "      <th>0</th>\n",
       "      <td>Toy Story</td>\n",
       "      <td>[Tom Hanks, Tim Allen, Don Rickles]</td>\n",
       "      <td>John Lasseter</td>\n",
       "      <td>[jealousy, toy, boy]</td>\n",
       "      <td>[Animation, Comedy, Family]</td>\n",
       "    </tr>\n",
       "    <tr>\n",
       "      <th>1</th>\n",
       "      <td>Jumanji</td>\n",
       "      <td>[Robin Williams, Jonathan Hyde, Kirsten Dunst]</td>\n",
       "      <td>Joe Johnston</td>\n",
       "      <td>[board game, disappearance, based on children'...</td>\n",
       "      <td>[Adventure, Fantasy, Family]</td>\n",
       "    </tr>\n",
       "    <tr>\n",
       "      <th>2</th>\n",
       "      <td>Grumpier Old Men</td>\n",
       "      <td>[Walter Matthau, Jack Lemmon, Ann-Margret]</td>\n",
       "      <td>Howard Deutch</td>\n",
       "      <td>[fishing, best friend, duringcreditsstinger]</td>\n",
       "      <td>[Romance, Comedy]</td>\n",
       "    </tr>\n",
       "    <tr>\n",
       "      <th>3</th>\n",
       "      <td>Waiting to Exhale</td>\n",
       "      <td>[Whitney Houston, Angela Bassett, Loretta Devine]</td>\n",
       "      <td>Forest Whitaker</td>\n",
       "      <td>[based on novel, interracial relationship, sin...</td>\n",
       "      <td>[Comedy, Drama, Romance]</td>\n",
       "    </tr>\n",
       "    <tr>\n",
       "      <th>4</th>\n",
       "      <td>Father of the Bride Part II</td>\n",
       "      <td>[Steve Martin, Diane Keaton, Martin Short]</td>\n",
       "      <td>Charles Shyer</td>\n",
       "      <td>[baby, midlife crisis, confidence]</td>\n",
       "      <td>[Comedy]</td>\n",
       "    </tr>\n",
       "  </tbody>\n",
       "</table>\n",
       "</div>"
      ],
      "text/plain": [
       "                         title  \\\n",
       "0                    Toy Story   \n",
       "1                      Jumanji   \n",
       "2             Grumpier Old Men   \n",
       "3            Waiting to Exhale   \n",
       "4  Father of the Bride Part II   \n",
       "\n",
       "                                                cast         director  \\\n",
       "0                [Tom Hanks, Tim Allen, Don Rickles]    John Lasseter   \n",
       "1     [Robin Williams, Jonathan Hyde, Kirsten Dunst]     Joe Johnston   \n",
       "2         [Walter Matthau, Jack Lemmon, Ann-Margret]    Howard Deutch   \n",
       "3  [Whitney Houston, Angela Bassett, Loretta Devine]  Forest Whitaker   \n",
       "4         [Steve Martin, Diane Keaton, Martin Short]    Charles Shyer   \n",
       "\n",
       "                                            keywords  \\\n",
       "0                               [jealousy, toy, boy]   \n",
       "1  [board game, disappearance, based on children'...   \n",
       "2       [fishing, best friend, duringcreditsstinger]   \n",
       "3  [based on novel, interracial relationship, sin...   \n",
       "4                 [baby, midlife crisis, confidence]   \n",
       "\n",
       "                         genres  \n",
       "0   [Animation, Comedy, Family]  \n",
       "1  [Adventure, Fantasy, Family]  \n",
       "2             [Romance, Comedy]  \n",
       "3      [Comedy, Drama, Romance]  \n",
       "4                      [Comedy]  "
      ]
     },
     "execution_count": 31,
     "metadata": {},
     "output_type": "execute_result"
    }
   ],
   "source": [
    "# Stampiamo le nuove caratteristiche dei primi e 5 film\n",
    "film[[\"title\", \"cast\", \"director\", \"keywords\", \"genres\"]].head(5)"
   ]
  },
  {
   "cell_type": "markdown",
   "metadata": {},
   "source": [
    "Il passaggio successivo da eseguire consiste nel convertire i nomi e le istanze delle parole chiave in lettere minuscole e rimuovere tutti gli spazi tra di esse.\n",
    "\n",
    "La rimozione degli spazi tra le parole è un importante passaggio di pre-elaborazione. È fatto in modo che il vettorizzatore non conti il Johnny di \"Johnny Depp\" e \"Johnny Galecki\" come lo stesso elemento. Dopo questa fase di elaborazione, i suddetti attori saranno rappresentati come \"johnnydepp\" e \"johnnygalecki\" e saranno visti come elementi differenti dal nostro vettorizzatore."
   ]
  },
  {
   "cell_type": "code",
   "execution_count": 32,
   "metadata": {},
   "outputs": [],
   "source": [
    "# La funzione che utilizziamo per convertire tutte le stringhe in lettere minuscole e rimuovere gli spazzi dai nomi è:\n",
    "def clean_data(x):\n",
    "    if isinstance(x, list):\n",
    "        return [str.lower(i.replace(\" \", \"\")) for i in x]\n",
    "    else:\n",
    "        # Verifichiamo se il direttore esiste. In caso contrario, restituiamo una stringa vuota\n",
    "        if isinstance(x, str):\n",
    "            return str.lower(x.replace(\" \", \"\"))\n",
    "        else:\n",
    "            return \" \""
   ]
  },
  {
   "cell_type": "code",
   "execution_count": 33,
   "metadata": {},
   "outputs": [],
   "source": [
    "# Applichiamo la funzione clean_data alle nostre caratteristiche\n",
    "caratteristiche = [\"cast\", \"keywords\", \"director\", \"genres\"]\n",
    "\n",
    "for feature in caratteristiche:\n",
    "    film[feature] = film[feature].apply(clean_data)"
   ]
  },
  {
   "cell_type": "markdown",
   "metadata": {},
   "source": [
    "Ora siamo in grado di creare  una \"zuppa di metadati\", codesta è una stringa che contiene tutti i metadati che vogliamo dare al nostro vettorizzatore (nel nostro caso: attori, regista e parole chiave).\n",
    "\n",
    "Utilizzeremo la funzione create_soup per unire tutte le colonne richieste con uno spazio. Questa è la fase di pre-elaborazione finale e l'output di questa funzione verrà inserito nel modello vettoriale di parole."
   ]
  },
  {
   "cell_type": "code",
   "execution_count": 34,
   "metadata": {},
   "outputs": [
    {
     "data": {
      "text/html": [
       "<div>\n",
       "<style scoped>\n",
       "    .dataframe tbody tr th:only-of-type {\n",
       "        vertical-align: middle;\n",
       "    }\n",
       "\n",
       "    .dataframe tbody tr th {\n",
       "        vertical-align: top;\n",
       "    }\n",
       "\n",
       "    .dataframe thead th {\n",
       "        text-align: right;\n",
       "    }\n",
       "</style>\n",
       "<table border=\"1\" class=\"dataframe\">\n",
       "  <thead>\n",
       "    <tr style=\"text-align: right;\">\n",
       "      <th></th>\n",
       "      <th>soup</th>\n",
       "    </tr>\n",
       "  </thead>\n",
       "  <tbody>\n",
       "    <tr>\n",
       "      <th>0</th>\n",
       "      <td>jealousy toy boy tomhanks timallen donrickles ...</td>\n",
       "    </tr>\n",
       "    <tr>\n",
       "      <th>1</th>\n",
       "      <td>boardgame disappearance basedonchildren'sbook ...</td>\n",
       "    </tr>\n",
       "    <tr>\n",
       "      <th>2</th>\n",
       "      <td>fishing bestfriend duringcreditsstinger walter...</td>\n",
       "    </tr>\n",
       "    <tr>\n",
       "      <th>3</th>\n",
       "      <td>basedonnovel interracialrelationship singlemot...</td>\n",
       "    </tr>\n",
       "    <tr>\n",
       "      <th>4</th>\n",
       "      <td>baby midlifecrisis confidence stevemartin dian...</td>\n",
       "    </tr>\n",
       "  </tbody>\n",
       "</table>\n",
       "</div>"
      ],
      "text/plain": [
       "                                                soup\n",
       "0  jealousy toy boy tomhanks timallen donrickles ...\n",
       "1  boardgame disappearance basedonchildren'sbook ...\n",
       "2  fishing bestfriend duringcreditsstinger walter...\n",
       "3  basedonnovel interracialrelationship singlemot...\n",
       "4  baby midlifecrisis confidence stevemartin dian..."
      ]
     },
     "execution_count": 34,
     "metadata": {},
     "output_type": "execute_result"
    }
   ],
   "source": [
    "def create_soup(x):\n",
    "    return \" \".join(x[\"keywords\"]) + \" \" + \" \".join(x[\"cast\"]) + \" \" + x[\"director\"] + \" \" + \" \".join(x[\"genres\"])\n",
    "\n",
    "# Creiamo una nuova zuppa di funzionalità\n",
    "film[\"soup\"] = film.apply(create_soup, axis=1)\n",
    "\n",
    "# Effettuiamo un test per vedere se la zuppa è stata correttamente creata\n",
    "film[[\"soup\"]].head(5)"
   ]
  },
  {
   "cell_type": "markdown",
   "metadata": {},
   "source": [
    "I passaggi successivi, sono gli stessi che abbiamo fatto per plottare il description-based recommendation system. Una differenza fondamentale è che ora useremo CountVectorizer() invece di TF-IDF (il componente IDF inverse document frequency, è presente solo nella seconda funzione e non anche nella prima).\n",
    "\n",
    "Useremo CountVectorizer(), perché non possiamo ignorare l’eventualità in cui l'attore / regista ha recitato o diretto in più film (ecco perché non ha molto senso ridimensionarli con la funzione TF-IDF)."
   ]
  },
  {
   "cell_type": "code",
   "execution_count": 35,
   "metadata": {},
   "outputs": [
    {
     "data": {
      "text/plain": [
       "(46628, 73881)"
      ]
     },
     "execution_count": 35,
     "metadata": {},
     "output_type": "execute_result"
    }
   ],
   "source": [
    "# Importiamo il CountVectorizer e creiamo la matrice per il conteggio\n",
    "from sklearn.feature_extraction.text import CountVectorizer\n",
    "\n",
    "conteggio = CountVectorizer(stop_words=\"english\")\n",
    "matrice_conteggio = conteggio.fit_transform(film[\"soup\"])\n",
    "matrice_conteggio.shape"
   ]
  },
  {
   "cell_type": "markdown",
   "metadata": {},
   "source": [
    "Dall'output ottenuto, possiamo vedere come ci siano 73.881 vocabolari nei metadati che gli abbiamo fornito.\n",
    "\n",
    "Ora utilizziamo la funzione cosine_similarity per misurare la distanza tra gli inserti."
   ]
  },
  {
   "cell_type": "code",
   "execution_count": 36,
   "metadata": {},
   "outputs": [],
   "source": [
    "# Calcoliamo la cosine similarity in base alla matrice del conteggio\n",
    "from sklearn.metrics.pairwise import cosine_similarity\n",
    "\n",
    "cosine_sim2 = cosine_similarity(matrice_conteggio, matrice_conteggio)"
   ]
  },
  {
   "cell_type": "code",
   "execution_count": 37,
   "metadata": {},
   "outputs": [],
   "source": [
    "# Reimpostiamo l'indice del nostro dataframe e creiamo il mapping inverso come abbiamo già fatto in precedenza\n",
    "film = film.reset_index()\n",
    "indici = pd.Series(film.index, index=film[\"title\"])"
   ]
  },
  {
   "cell_type": "markdown",
   "metadata": {},
   "source": [
    "Ora possimao riutilizzare la funzione get_recommendations(), utilizzando però questa volta come secondo argomento la nuova matrice ottenuta grazie alla cosine_sim2"
   ]
  },
  {
   "cell_type": "code",
   "execution_count": 38,
   "metadata": {},
   "outputs": [
    {
     "data": {
      "text/plain": [
       "12589           The Dark Knight\n",
       "10210             Batman Begins\n",
       "9311                     Shiner\n",
       "9874            Amongst Friends\n",
       "7772                   Mitchell\n",
       "516           Romeo Is Bleeding\n",
       "11463              The Prestige\n",
       "24090                 Quicksand\n",
       "25038                  Deadfall\n",
       "41063                      Sara\n",
       "43848     Lure: Teen Fight Club\n",
       "10853            Helter Skelter\n",
       "18940                 Last Exit\n",
       "34488                      Rege\n",
       "35802    Manuscripts Don't Burn\n",
       "Name: title, dtype: object"
      ]
     },
     "execution_count": 38,
     "metadata": {},
     "output_type": "execute_result"
    }
   ],
   "source": [
    "get_recommendations(\"The Dark Knight Rises\", cosine_sim2)"
   ]
  },
  {
   "cell_type": "code",
   "execution_count": 39,
   "metadata": {},
   "outputs": [
    {
     "data": {
      "text/plain": [
       "3024                                           Toy Story 2\n",
       "15519                                          Toy Story 3\n",
       "29198                                      Superstar Goofy\n",
       "26001                           Toy Story That Time Forgot\n",
       "22126                                 Toy Story of Terror!\n",
       "3336                                     Creature Comforts\n",
       "25999                                      Partysaurus Rex\n",
       "27606                                                Anina\n",
       "43071                        Dexter's Laboratory: Ego Trip\n",
       "28005                                        Radiopiratene\n",
       "29607                                          Cheburashka\n",
       "40904                   VeggieTales: Josh and the Big Wall\n",
       "40913    VeggieTales: Minnesota Cuke and the Search for...\n",
       "41371                                              Uncle P\n",
       "15734                     The Bugs Bunny/Road Runner Movie\n",
       "Name: title, dtype: object"
      ]
     },
     "execution_count": 39,
     "metadata": {},
     "output_type": "execute_result"
    }
   ],
   "source": [
    "get_recommendations(\"Toy Story\", cosine_sim2)"
   ]
  },
  {
   "cell_type": "code",
   "execution_count": 40,
   "metadata": {},
   "outputs": [
    {
     "data": {
      "text/plain": [
       "14455                       Where the Wild Things Are\n",
       "552                                    The Pagemaster\n",
       "26717                                  Mostly Ghostly\n",
       "38713                          Jack and the Beanstalk\n",
       "24871               Tinker Bell and the Lost Treasure\n",
       "30651    Mostly Ghostly: Have You Met My Ghoulfriend?\n",
       "41598       Mostly Ghostly 3: One Night in Doom House\n",
       "42041                                  You Are Umasou\n",
       "13109                                   City of Ember\n",
       "14780          Playmobil: The Secret of Pirate Island\n",
       "16613                       Cirque du Soleil: Varekai\n",
       "18480                  G.I. Joe: The Revenge of Cobra\n",
       "30667                 Zenon: Girl of the 21st Century\n",
       "32498                          Puff, the Magic Dragon\n",
       "38236                      Kingdom of Crooked Mirrors\n",
       "Name: title, dtype: object"
      ]
     },
     "execution_count": 40,
     "metadata": {},
     "output_type": "execute_result"
    }
   ],
   "source": [
    "get_recommendations(\"Jumanji\", cosine_sim2)"
   ]
  },
  {
   "cell_type": "code",
   "execution_count": 41,
   "metadata": {},
   "outputs": [
    {
     "data": {
      "text/plain": [
       "24749                                           Tom Sawyer\n",
       "38374                                     The King's Beard\n",
       "29607                                          Cheburashka\n",
       "40904                   VeggieTales: Josh and the Big Wall\n",
       "40913    VeggieTales: Minnesota Cuke and the Search for...\n",
       "40916    VeggieTales: Sheerluck Holmes and the Golden R...\n",
       "3976                                       A Monkey's Tale\n",
       "24528                                     No Time for Nuts\n",
       "32376                Pokémon: Giratina and the Sky Warrior\n",
       "40915                VeggieTales: LarryBoy & The Bad Apple\n",
       "16971                                      Mars Needs Moms\n",
       "30892                      Blank: A Vinylmation Love Story\n",
       "42520                                   Junior and Karlson\n",
       "10409                                              Valiant\n",
       "15209             Spiderman: The Ultimate Villain Showdown\n",
       "Name: title, dtype: object"
      ]
     },
     "execution_count": 41,
     "metadata": {},
     "output_type": "execute_result"
    }
   ],
   "source": [
    "get_recommendations(\"Balto\", cosine_sim2)"
   ]
  },
  {
   "cell_type": "code",
   "execution_count": 42,
   "metadata": {},
   "outputs": [
    {
     "data": {
      "text/plain": [
       "6657                                    Super Sucker\n",
       "28676                      Jim Carrey: Unnatural Act\n",
       "25140                             Dumb and Dumber To\n",
       "5715                        Escanaba in da Moonlight\n",
       "22574                                      The Guide\n",
       "41590     The First Annual 'On Cinema' Oscar Special\n",
       "43758    The Fourth Annual 'On Cinema' Oscar Special\n",
       "44914                                   World Cinema\n",
       "46134                               Puolin ja toisin\n",
       "1577                              A Smile Like Yours\n",
       "3770                                    All the Rage\n",
       "27789             Archie To Riverdale and Back Again\n",
       "34801                                  Just Desserts\n",
       "40045                                     So Is This\n",
       "4462                              Sweet Hearts Dance\n",
       "Name: title, dtype: object"
      ]
     },
     "execution_count": 42,
     "metadata": {},
     "output_type": "execute_result"
    }
   ],
   "source": [
    "get_recommendations(\"Dumb and Dumber\", cosine_sim2)"
   ]
  },
  {
   "cell_type": "code",
   "execution_count": 43,
   "metadata": {},
   "outputs": [
    {
     "data": {
      "text/plain": [
       "1934            The Godfather: Part III\n",
       "1199             The Godfather: Part II\n",
       "15609                   The Rain People\n",
       "18940                         Last Exit\n",
       "34488                              Rege\n",
       "35802            Manuscripts Don't Burn\n",
       "35803            Manuscripts Don't Burn\n",
       "8001     The Night of the Following Day\n",
       "18261                 The Son of No One\n",
       "28683            In the Name of the Law\n",
       "39193                 The Good Neighbor\n",
       "7772                           Mitchell\n",
       "23540               Hide in Plain Sight\n",
       "1186                     Apocalypse Now\n",
       "1648                   Ill Gotten Gains\n",
       "Name: title, dtype: object"
      ]
     },
     "execution_count": 43,
     "metadata": {},
     "output_type": "execute_result"
    }
   ],
   "source": [
    "get_recommendations(\"The Godfather\", cosine_sim2)"
   ]
  },
  {
   "cell_type": "markdown",
   "metadata": {},
   "source": [
    "> Come possiamo osservare, il recommender è riuscito ad acquisire più informazioni grazie all’utilizzo di più metadati, di conseguenza sono stati dati dei consigli migliori. Ci sono, numerosi modi per migliorare il nostro recommender, alcuni esempi possono essere quelli di:\n",
    "\n",
    ">>* Introdurre un filtro di popolarità,\n",
    "\n",
    ">>* Includere altri membri della troupe, come ad esempio sceneggiatori e produttori,\n",
    "\n",
    ">>* Predisporre un peso crescente del regista."
   ]
  },
  {
   "cell_type": "markdown",
   "metadata": {},
   "source": [
    "# FILTRO COLLABORATIVO"
   ]
  },
  {
   "cell_type": "markdown",
   "metadata": {},
   "source": [
    "In questa sezione verrà utilizzata una tecnica denominata Collaborative Filtering per fornire delle raccomandazioni a chi guarda i film. Fondamentalmente questa tecnica si dirama in due tipologie:\n",
    "\n",
    "* _Filtri basati sull'utente_: questi sistemi consigliano prodotti a un utente sulla base dei prodotti che sono stati apprezzati da utenti simili all’utente scelto. Per misurare la somiglianza fra due utenti possiamo utilizzare la correlazione di pearson o la cosine similarity.\n",
    "\n",
    "\n",
    "* _Filtri basati sugli elementi_: invece di misurare la somiglianza tra gli utenti, consiglia gli elementi in base alla loro somiglianza con quelli valutati dall'utente che abbiamo scelto. Anche qui, la somiglianza può essere calcolata con la correlazione di Pearson o la cosine similarity. La differenza principale è che, con il filtraggio basato sugli elementi, riempiamo lo spazio vuoto verticalmente. "
   ]
  },
  {
   "cell_type": "code",
   "execution_count": 44,
   "metadata": {},
   "outputs": [
    {
     "data": {
      "text/html": [
       "<div>\n",
       "<style scoped>\n",
       "    .dataframe tbody tr th:only-of-type {\n",
       "        vertical-align: middle;\n",
       "    }\n",
       "\n",
       "    .dataframe tbody tr th {\n",
       "        vertical-align: top;\n",
       "    }\n",
       "\n",
       "    .dataframe thead th {\n",
       "        text-align: right;\n",
       "    }\n",
       "</style>\n",
       "<table border=\"1\" class=\"dataframe\">\n",
       "  <thead>\n",
       "    <tr style=\"text-align: right;\">\n",
       "      <th></th>\n",
       "      <th>userId</th>\n",
       "      <th>movieId</th>\n",
       "      <th>rating</th>\n",
       "      <th>timestamp</th>\n",
       "    </tr>\n",
       "  </thead>\n",
       "  <tbody>\n",
       "    <tr>\n",
       "      <th>0</th>\n",
       "      <td>1</td>\n",
       "      <td>31</td>\n",
       "      <td>2.5</td>\n",
       "      <td>1260759144</td>\n",
       "    </tr>\n",
       "    <tr>\n",
       "      <th>1</th>\n",
       "      <td>1</td>\n",
       "      <td>1029</td>\n",
       "      <td>3.0</td>\n",
       "      <td>1260759179</td>\n",
       "    </tr>\n",
       "    <tr>\n",
       "      <th>2</th>\n",
       "      <td>1</td>\n",
       "      <td>1061</td>\n",
       "      <td>3.0</td>\n",
       "      <td>1260759182</td>\n",
       "    </tr>\n",
       "    <tr>\n",
       "      <th>3</th>\n",
       "      <td>1</td>\n",
       "      <td>1129</td>\n",
       "      <td>2.0</td>\n",
       "      <td>1260759185</td>\n",
       "    </tr>\n",
       "    <tr>\n",
       "      <th>4</th>\n",
       "      <td>1</td>\n",
       "      <td>1172</td>\n",
       "      <td>4.0</td>\n",
       "      <td>1260759205</td>\n",
       "    </tr>\n",
       "  </tbody>\n",
       "</table>\n",
       "</div>"
      ],
      "text/plain": [
       "   userId  movieId  rating   timestamp\n",
       "0       1       31     2.5  1260759144\n",
       "1       1     1029     3.0  1260759179\n",
       "2       1     1061     3.0  1260759182\n",
       "3       1     1129     2.0  1260759185\n",
       "4       1     1172     4.0  1260759205"
      ]
     },
     "execution_count": 44,
     "metadata": {},
     "output_type": "execute_result"
    }
   ],
   "source": [
    "from surprise import (Reader, Dataset, SVD)\n",
    "from surprise.model_selection import cross_validate\n",
    "lettore = Reader()\n",
    "# Per velocizzare i calcoli useremo il dataset ratings in versione ridotta cioè ratings_small\n",
    "voti = pd.read_csv(\"ratings_small.csv\")\n",
    "voti.head()"
   ]
  },
  {
   "cell_type": "code",
   "execution_count": 45,
   "metadata": {},
   "outputs": [],
   "source": [
    "# Carichiamo il set di dati che andremo ad utilizare\n",
    "data = Dataset.load_from_df(voti[[\"userId\", \"movieId\", \"rating\"]], lettore)"
   ]
  },
  {
   "cell_type": "code",
   "execution_count": 46,
   "metadata": {},
   "outputs": [
    {
     "name": "stdout",
     "output_type": "stream",
     "text": [
      "Evaluating RMSE, MAE of algorithm SVD on 5 split(s).\n",
      "\n",
      "                  Fold 1  Fold 2  Fold 3  Fold 4  Fold 5  Mean    Std     \n",
      "RMSE (testset)    0.8946  0.8894  0.8946  0.9037  0.8998  0.8964  0.0049  \n",
      "MAE (testset)     0.6881  0.6862  0.6885  0.6939  0.6921  0.6898  0.0028  \n",
      "Fit time          3.48    3.46    3.48    3.51    3.45    3.48    0.02    \n",
      "Test time         0.12    0.10    0.10    0.10    0.10    0.10    0.01    \n"
     ]
    },
    {
     "data": {
      "text/plain": [
       "{'test_rmse': array([0.89456188, 0.88940633, 0.89464703, 0.90365865, 0.89978137]),\n",
       " 'test_mae': array([0.68809372, 0.68617336, 0.68852818, 0.69389397, 0.6920678 ]),\n",
       " 'fit_time': (3.4815237522125244,\n",
       "  3.457468032836914,\n",
       "  3.4814677238464355,\n",
       "  3.511371612548828,\n",
       "  3.453059673309326),\n",
       " 'test_time': (0.11769270896911621,\n",
       "  0.09674692153930664,\n",
       "  0.09674715995788574,\n",
       "  0.09973907470703125,\n",
       "  0.09725069999694824)}"
      ]
     },
     "execution_count": 46,
     "metadata": {},
     "output_type": "execute_result"
    }
   ],
   "source": [
    "# Adoperiamo l'algoritmo SVD\n",
    "svd = SVD()\n",
    "# Eseguiamo 5 volte cross_validate (la convalida incrociata) e stampiamo i risultati.\n",
    "cross_validate(svd, data, measures=[\"RMSE\", \"MAE\"],cv=5, verbose=True)"
   ]
  },
  {
   "cell_type": "markdown",
   "metadata": {},
   "source": [
    "Come possiamo osservare dal valore _Mean RMSE_, abbiamo ottenuto un errore quadratico medio di 0.89. A questo punto è necessario eseguire il training set dei dati per arrivare a fornire delle stime."
   ]
  },
  {
   "cell_type": "code",
   "execution_count": 47,
   "metadata": {},
   "outputs": [
    {
     "data": {
      "text/plain": [
       "<surprise.prediction_algorithms.matrix_factorization.SVD at 0x17a8a5c1408>"
      ]
     },
     "execution_count": 47,
     "metadata": {},
     "output_type": "execute_result"
    }
   ],
   "source": [
    "train = data.build_full_trainset()\n",
    "svd.fit(train)"
   ]
  },
  {
   "cell_type": "code",
   "execution_count": 48,
   "metadata": {},
   "outputs": [
    {
     "data": {
      "text/html": [
       "<div>\n",
       "<style scoped>\n",
       "    .dataframe tbody tr th:only-of-type {\n",
       "        vertical-align: middle;\n",
       "    }\n",
       "\n",
       "    .dataframe tbody tr th {\n",
       "        vertical-align: top;\n",
       "    }\n",
       "\n",
       "    .dataframe thead th {\n",
       "        text-align: right;\n",
       "    }\n",
       "</style>\n",
       "<table border=\"1\" class=\"dataframe\">\n",
       "  <thead>\n",
       "    <tr style=\"text-align: right;\">\n",
       "      <th></th>\n",
       "      <th>userId</th>\n",
       "      <th>movieId</th>\n",
       "      <th>rating</th>\n",
       "      <th>timestamp</th>\n",
       "    </tr>\n",
       "  </thead>\n",
       "  <tbody>\n",
       "    <tr>\n",
       "      <th>96</th>\n",
       "      <td>3</td>\n",
       "      <td>60</td>\n",
       "      <td>3.0</td>\n",
       "      <td>1298861675</td>\n",
       "    </tr>\n",
       "    <tr>\n",
       "      <th>97</th>\n",
       "      <td>3</td>\n",
       "      <td>110</td>\n",
       "      <td>4.0</td>\n",
       "      <td>1298922049</td>\n",
       "    </tr>\n",
       "    <tr>\n",
       "      <th>98</th>\n",
       "      <td>3</td>\n",
       "      <td>247</td>\n",
       "      <td>3.5</td>\n",
       "      <td>1298861637</td>\n",
       "    </tr>\n",
       "    <tr>\n",
       "      <th>99</th>\n",
       "      <td>3</td>\n",
       "      <td>267</td>\n",
       "      <td>3.0</td>\n",
       "      <td>1298861761</td>\n",
       "    </tr>\n",
       "    <tr>\n",
       "      <th>100</th>\n",
       "      <td>3</td>\n",
       "      <td>296</td>\n",
       "      <td>4.5</td>\n",
       "      <td>1298862418</td>\n",
       "    </tr>\n",
       "    <tr>\n",
       "      <th>101</th>\n",
       "      <td>3</td>\n",
       "      <td>318</td>\n",
       "      <td>5.0</td>\n",
       "      <td>1298862121</td>\n",
       "    </tr>\n",
       "    <tr>\n",
       "      <th>102</th>\n",
       "      <td>3</td>\n",
       "      <td>355</td>\n",
       "      <td>2.5</td>\n",
       "      <td>1298861589</td>\n",
       "    </tr>\n",
       "    <tr>\n",
       "      <th>103</th>\n",
       "      <td>3</td>\n",
       "      <td>356</td>\n",
       "      <td>5.0</td>\n",
       "      <td>1298862167</td>\n",
       "    </tr>\n",
       "    <tr>\n",
       "      <th>104</th>\n",
       "      <td>3</td>\n",
       "      <td>377</td>\n",
       "      <td>2.5</td>\n",
       "      <td>1298923242</td>\n",
       "    </tr>\n",
       "    <tr>\n",
       "      <th>105</th>\n",
       "      <td>3</td>\n",
       "      <td>527</td>\n",
       "      <td>3.0</td>\n",
       "      <td>1298862528</td>\n",
       "    </tr>\n",
       "    <tr>\n",
       "      <th>106</th>\n",
       "      <td>3</td>\n",
       "      <td>588</td>\n",
       "      <td>3.0</td>\n",
       "      <td>1298922100</td>\n",
       "    </tr>\n",
       "    <tr>\n",
       "      <th>107</th>\n",
       "      <td>3</td>\n",
       "      <td>592</td>\n",
       "      <td>3.0</td>\n",
       "      <td>1298923247</td>\n",
       "    </tr>\n",
       "    <tr>\n",
       "      <th>108</th>\n",
       "      <td>3</td>\n",
       "      <td>593</td>\n",
       "      <td>3.0</td>\n",
       "      <td>1298921840</td>\n",
       "    </tr>\n",
       "    <tr>\n",
       "      <th>109</th>\n",
       "      <td>3</td>\n",
       "      <td>595</td>\n",
       "      <td>2.0</td>\n",
       "      <td>1298923260</td>\n",
       "    </tr>\n",
       "    <tr>\n",
       "      <th>110</th>\n",
       "      <td>3</td>\n",
       "      <td>736</td>\n",
       "      <td>3.5</td>\n",
       "      <td>1298932787</td>\n",
       "    </tr>\n",
       "    <tr>\n",
       "      <th>111</th>\n",
       "      <td>3</td>\n",
       "      <td>778</td>\n",
       "      <td>4.0</td>\n",
       "      <td>1298863157</td>\n",
       "    </tr>\n",
       "    <tr>\n",
       "      <th>112</th>\n",
       "      <td>3</td>\n",
       "      <td>866</td>\n",
       "      <td>3.0</td>\n",
       "      <td>1298861687</td>\n",
       "    </tr>\n",
       "    <tr>\n",
       "      <th>113</th>\n",
       "      <td>3</td>\n",
       "      <td>1197</td>\n",
       "      <td>5.0</td>\n",
       "      <td>1298932770</td>\n",
       "    </tr>\n",
       "    <tr>\n",
       "      <th>114</th>\n",
       "      <td>3</td>\n",
       "      <td>1210</td>\n",
       "      <td>3.0</td>\n",
       "      <td>1298921795</td>\n",
       "    </tr>\n",
       "    <tr>\n",
       "      <th>115</th>\n",
       "      <td>3</td>\n",
       "      <td>1235</td>\n",
       "      <td>4.0</td>\n",
       "      <td>1298861628</td>\n",
       "    </tr>\n",
       "    <tr>\n",
       "      <th>116</th>\n",
       "      <td>3</td>\n",
       "      <td>1271</td>\n",
       "      <td>3.0</td>\n",
       "      <td>1298861605</td>\n",
       "    </tr>\n",
       "    <tr>\n",
       "      <th>117</th>\n",
       "      <td>3</td>\n",
       "      <td>1378</td>\n",
       "      <td>4.0</td>\n",
       "      <td>1298861658</td>\n",
       "    </tr>\n",
       "    <tr>\n",
       "      <th>118</th>\n",
       "      <td>3</td>\n",
       "      <td>1580</td>\n",
       "      <td>3.5</td>\n",
       "      <td>1298922089</td>\n",
       "    </tr>\n",
       "    <tr>\n",
       "      <th>119</th>\n",
       "      <td>3</td>\n",
       "      <td>1721</td>\n",
       "      <td>4.5</td>\n",
       "      <td>1298923236</td>\n",
       "    </tr>\n",
       "    <tr>\n",
       "      <th>120</th>\n",
       "      <td>3</td>\n",
       "      <td>1884</td>\n",
       "      <td>4.0</td>\n",
       "      <td>1298863143</td>\n",
       "    </tr>\n",
       "    <tr>\n",
       "      <th>121</th>\n",
       "      <td>3</td>\n",
       "      <td>2028</td>\n",
       "      <td>4.0</td>\n",
       "      <td>1298921862</td>\n",
       "    </tr>\n",
       "    <tr>\n",
       "      <th>122</th>\n",
       "      <td>3</td>\n",
       "      <td>2318</td>\n",
       "      <td>4.0</td>\n",
       "      <td>1298861753</td>\n",
       "    </tr>\n",
       "    <tr>\n",
       "      <th>123</th>\n",
       "      <td>3</td>\n",
       "      <td>2513</td>\n",
       "      <td>3.0</td>\n",
       "      <td>1298861789</td>\n",
       "    </tr>\n",
       "    <tr>\n",
       "      <th>124</th>\n",
       "      <td>3</td>\n",
       "      <td>2694</td>\n",
       "      <td>3.0</td>\n",
       "      <td>1298862710</td>\n",
       "    </tr>\n",
       "    <tr>\n",
       "      <th>125</th>\n",
       "      <td>3</td>\n",
       "      <td>2702</td>\n",
       "      <td>3.5</td>\n",
       "      <td>1298861796</td>\n",
       "    </tr>\n",
       "    <tr>\n",
       "      <th>126</th>\n",
       "      <td>3</td>\n",
       "      <td>2716</td>\n",
       "      <td>3.0</td>\n",
       "      <td>1298924017</td>\n",
       "    </tr>\n",
       "    <tr>\n",
       "      <th>127</th>\n",
       "      <td>3</td>\n",
       "      <td>2762</td>\n",
       "      <td>3.5</td>\n",
       "      <td>1298922057</td>\n",
       "    </tr>\n",
       "    <tr>\n",
       "      <th>128</th>\n",
       "      <td>3</td>\n",
       "      <td>2841</td>\n",
       "      <td>4.0</td>\n",
       "      <td>1298861733</td>\n",
       "    </tr>\n",
       "    <tr>\n",
       "      <th>129</th>\n",
       "      <td>3</td>\n",
       "      <td>2858</td>\n",
       "      <td>4.0</td>\n",
       "      <td>1298921825</td>\n",
       "    </tr>\n",
       "    <tr>\n",
       "      <th>130</th>\n",
       "      <td>3</td>\n",
       "      <td>2959</td>\n",
       "      <td>5.0</td>\n",
       "      <td>1298862874</td>\n",
       "    </tr>\n",
       "    <tr>\n",
       "      <th>131</th>\n",
       "      <td>3</td>\n",
       "      <td>3243</td>\n",
       "      <td>3.0</td>\n",
       "      <td>1298861968</td>\n",
       "    </tr>\n",
       "    <tr>\n",
       "      <th>132</th>\n",
       "      <td>3</td>\n",
       "      <td>3510</td>\n",
       "      <td>4.0</td>\n",
       "      <td>1298861633</td>\n",
       "    </tr>\n",
       "    <tr>\n",
       "      <th>133</th>\n",
       "      <td>3</td>\n",
       "      <td>3949</td>\n",
       "      <td>5.0</td>\n",
       "      <td>1298863174</td>\n",
       "    </tr>\n",
       "    <tr>\n",
       "      <th>134</th>\n",
       "      <td>3</td>\n",
       "      <td>5349</td>\n",
       "      <td>3.0</td>\n",
       "      <td>1298923266</td>\n",
       "    </tr>\n",
       "    <tr>\n",
       "      <th>135</th>\n",
       "      <td>3</td>\n",
       "      <td>5669</td>\n",
       "      <td>3.5</td>\n",
       "      <td>1298862672</td>\n",
       "    </tr>\n",
       "    <tr>\n",
       "      <th>136</th>\n",
       "      <td>3</td>\n",
       "      <td>6377</td>\n",
       "      <td>3.0</td>\n",
       "      <td>1298922080</td>\n",
       "    </tr>\n",
       "    <tr>\n",
       "      <th>137</th>\n",
       "      <td>3</td>\n",
       "      <td>7153</td>\n",
       "      <td>2.5</td>\n",
       "      <td>1298921787</td>\n",
       "    </tr>\n",
       "    <tr>\n",
       "      <th>138</th>\n",
       "      <td>3</td>\n",
       "      <td>7361</td>\n",
       "      <td>3.0</td>\n",
       "      <td>1298922065</td>\n",
       "    </tr>\n",
       "    <tr>\n",
       "      <th>139</th>\n",
       "      <td>3</td>\n",
       "      <td>8622</td>\n",
       "      <td>3.5</td>\n",
       "      <td>1298861650</td>\n",
       "    </tr>\n",
       "    <tr>\n",
       "      <th>140</th>\n",
       "      <td>3</td>\n",
       "      <td>8636</td>\n",
       "      <td>3.0</td>\n",
       "      <td>1298932766</td>\n",
       "    </tr>\n",
       "    <tr>\n",
       "      <th>141</th>\n",
       "      <td>3</td>\n",
       "      <td>27369</td>\n",
       "      <td>3.5</td>\n",
       "      <td>1298862555</td>\n",
       "    </tr>\n",
       "    <tr>\n",
       "      <th>142</th>\n",
       "      <td>3</td>\n",
       "      <td>44191</td>\n",
       "      <td>3.5</td>\n",
       "      <td>1298932740</td>\n",
       "    </tr>\n",
       "    <tr>\n",
       "      <th>143</th>\n",
       "      <td>3</td>\n",
       "      <td>48783</td>\n",
       "      <td>4.5</td>\n",
       "      <td>1298862361</td>\n",
       "    </tr>\n",
       "    <tr>\n",
       "      <th>144</th>\n",
       "      <td>3</td>\n",
       "      <td>50068</td>\n",
       "      <td>4.5</td>\n",
       "      <td>1298862467</td>\n",
       "    </tr>\n",
       "    <tr>\n",
       "      <th>145</th>\n",
       "      <td>3</td>\n",
       "      <td>58559</td>\n",
       "      <td>3.0</td>\n",
       "      <td>1298922071</td>\n",
       "    </tr>\n",
       "    <tr>\n",
       "      <th>146</th>\n",
       "      <td>3</td>\n",
       "      <td>84236</td>\n",
       "      <td>4.0</td>\n",
       "      <td>1298922130</td>\n",
       "    </tr>\n",
       "  </tbody>\n",
       "</table>\n",
       "</div>"
      ],
      "text/plain": [
       "     userId  movieId  rating   timestamp\n",
       "96        3       60     3.0  1298861675\n",
       "97        3      110     4.0  1298922049\n",
       "98        3      247     3.5  1298861637\n",
       "99        3      267     3.0  1298861761\n",
       "100       3      296     4.5  1298862418\n",
       "101       3      318     5.0  1298862121\n",
       "102       3      355     2.5  1298861589\n",
       "103       3      356     5.0  1298862167\n",
       "104       3      377     2.5  1298923242\n",
       "105       3      527     3.0  1298862528\n",
       "106       3      588     3.0  1298922100\n",
       "107       3      592     3.0  1298923247\n",
       "108       3      593     3.0  1298921840\n",
       "109       3      595     2.0  1298923260\n",
       "110       3      736     3.5  1298932787\n",
       "111       3      778     4.0  1298863157\n",
       "112       3      866     3.0  1298861687\n",
       "113       3     1197     5.0  1298932770\n",
       "114       3     1210     3.0  1298921795\n",
       "115       3     1235     4.0  1298861628\n",
       "116       3     1271     3.0  1298861605\n",
       "117       3     1378     4.0  1298861658\n",
       "118       3     1580     3.5  1298922089\n",
       "119       3     1721     4.5  1298923236\n",
       "120       3     1884     4.0  1298863143\n",
       "121       3     2028     4.0  1298921862\n",
       "122       3     2318     4.0  1298861753\n",
       "123       3     2513     3.0  1298861789\n",
       "124       3     2694     3.0  1298862710\n",
       "125       3     2702     3.5  1298861796\n",
       "126       3     2716     3.0  1298924017\n",
       "127       3     2762     3.5  1298922057\n",
       "128       3     2841     4.0  1298861733\n",
       "129       3     2858     4.0  1298921825\n",
       "130       3     2959     5.0  1298862874\n",
       "131       3     3243     3.0  1298861968\n",
       "132       3     3510     4.0  1298861633\n",
       "133       3     3949     5.0  1298863174\n",
       "134       3     5349     3.0  1298923266\n",
       "135       3     5669     3.5  1298862672\n",
       "136       3     6377     3.0  1298922080\n",
       "137       3     7153     2.5  1298921787\n",
       "138       3     7361     3.0  1298922065\n",
       "139       3     8622     3.5  1298861650\n",
       "140       3     8636     3.0  1298932766\n",
       "141       3    27369     3.5  1298862555\n",
       "142       3    44191     3.5  1298932740\n",
       "143       3    48783     4.5  1298862361\n",
       "144       3    50068     4.5  1298862467\n",
       "145       3    58559     3.0  1298922071\n",
       "146       3    84236     4.0  1298922130"
      ]
     },
     "execution_count": 48,
     "metadata": {},
     "output_type": "execute_result"
    }
   ],
   "source": [
    "# Vedimao quali sono i voti per il terzo userId\n",
    "voti[voti[\"userId\"] == 3] "
   ]
  },
  {
   "cell_type": "code",
   "execution_count": 49,
   "metadata": {
    "scrolled": true
   },
   "outputs": [
    {
     "data": {
      "text/plain": [
       "Prediction(uid=3, iid=250, r_ui=3, est=3.2787766940283047, details={'was_impossible': False})"
      ]
     },
     "execution_count": 49,
     "metadata": {},
     "output_type": "execute_result"
    }
   ],
   "source": [
    "svd.predict(3, 250, 3)"
   ]
  },
  {
   "cell_type": "markdown",
   "metadata": {},
   "source": [
    ">Per il filmato con ID 250, otteniamo una previsione di stimata  di 3.278.Il tutto funziona esclusivamente sulla base dell'ID del film scelto,  grazie a quest'ultimo siamo in grado di prevedere le valutazioni in base a come gli altri utenti hanno a loro volta valutato il film."
   ]
  },
  {
   "cell_type": "markdown",
   "metadata": {},
   "source": [
    "# CONCLUSIONE"
   ]
  },
  {
   "cell_type": "markdown",
   "metadata": {},
   "source": [
    "_Nel qui presente terzo capitolo della trattazione tesisitica proposta, abbiamo creato con successo dei reccomender system   utilizzando approcci di:_ \n",
    "\n",
    "* ##### Filtraggio demografici, \n",
    "\n",
    "* ##### Basati sul contenuti, \n",
    "\n",
    "* ##### Collaborativi.\n",
    "\n",
    "Tutti i codici, sono stati eseguiti grazie a Jupyter Notebook, un’applicazione web open source che consente di includere testo, video, audio e immagini e offre la possibilità di eseguire codice in diversi linguaggi di programmazione. Di default, fornisce il kernel di Python. Tuttavia supporta altri kernel come Octave, Julia, R, Haskell, Ruby, C / C ++, Fortan, Java, SageMath, Scala, Matlab, Mathematica e LaTeX.\n",
    "\n",
    "La sua architettura è il principale vantaggio; questa consente di ospitare l’intera installazione di kernel, librerie e strumenti necessari in un server (può anche essere integrato con docker), impedendo così per esempio che ogni membro di un Data Science Team debba configurare tutto il proprio ambiente di lavoro localmente nel proprio computer.Si collegano direttamente dai loro computer all’ambiente server tramite browser e dispongono già di tutte le configurazioni di base necessarie per lavorare.Inoltre tutto il codice sviluppato in un notebook può essere esportato in formati come HTML, LateX, pdf, ReStructuredText e presentazioni."
   ]
  },
  {
   "cell_type": "code",
   "execution_count": null,
   "metadata": {},
   "outputs": [],
   "source": []
  }
 ],
 "metadata": {
  "kernelspec": {
   "display_name": "Python 3",
   "language": "python",
   "name": "python3"
  },
  "language_info": {
   "codemirror_mode": {
    "name": "ipython",
    "version": 3
   },
   "file_extension": ".py",
   "mimetype": "text/x-python",
   "name": "python",
   "nbconvert_exporter": "python",
   "pygments_lexer": "ipython3",
   "version": "3.8.5"
  }
 },
 "nbformat": 4,
 "nbformat_minor": 4
}
